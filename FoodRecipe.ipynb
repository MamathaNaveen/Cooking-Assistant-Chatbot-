{
 "cells": [
  {
   "cell_type": "code",
   "execution_count": 252,
   "id": "97ddfe78-367d-4412-a359-02dcc8e402fd",
   "metadata": {
    "scrolled": true
   },
   "outputs": [
    {
     "data": {
      "text/html": [
       "<div>\n",
       "<style scoped>\n",
       "    .dataframe tbody tr th:only-of-type {\n",
       "        vertical-align: middle;\n",
       "    }\n",
       "\n",
       "    .dataframe tbody tr th {\n",
       "        vertical-align: top;\n",
       "    }\n",
       "\n",
       "    .dataframe thead th {\n",
       "        text-align: right;\n",
       "    }\n",
       "</style>\n",
       "<table border=\"1\" class=\"dataframe\">\n",
       "  <thead>\n",
       "    <tr style=\"text-align: right;\">\n",
       "      <th></th>\n",
       "      <th>name</th>\n",
       "      <th>ingredients</th>\n",
       "      <th>diet</th>\n",
       "      <th>prep_time</th>\n",
       "      <th>cook_time</th>\n",
       "      <th>flavor_profile</th>\n",
       "      <th>course</th>\n",
       "      <th>state</th>\n",
       "      <th>region</th>\n",
       "      <th>description</th>\n",
       "    </tr>\n",
       "  </thead>\n",
       "  <tbody>\n",
       "    <tr>\n",
       "      <th>0</th>\n",
       "      <td>Balu shahi</td>\n",
       "      <td>Maida flour, yogurt, oil, sugar</td>\n",
       "      <td>vegetarian</td>\n",
       "      <td>45</td>\n",
       "      <td>25</td>\n",
       "      <td>sweet</td>\n",
       "      <td>dessert</td>\n",
       "      <td>West Bengal</td>\n",
       "      <td>East</td>\n",
       "      <td>Balu shahi is a vegetarian dessert from West B...</td>\n",
       "    </tr>\n",
       "    <tr>\n",
       "      <th>1</th>\n",
       "      <td>Boondi</td>\n",
       "      <td>Gram flour, ghee, sugar</td>\n",
       "      <td>vegetarian</td>\n",
       "      <td>80</td>\n",
       "      <td>30</td>\n",
       "      <td>sweet</td>\n",
       "      <td>dessert</td>\n",
       "      <td>Rajasthan</td>\n",
       "      <td>West</td>\n",
       "      <td>Boondi is a vegetarian dessert from Rajasthan ...</td>\n",
       "    </tr>\n",
       "    <tr>\n",
       "      <th>2</th>\n",
       "      <td>Gajar ka halwa</td>\n",
       "      <td>Carrots, milk, sugar, ghee, cashews, raisins</td>\n",
       "      <td>vegetarian</td>\n",
       "      <td>15</td>\n",
       "      <td>60</td>\n",
       "      <td>sweet</td>\n",
       "      <td>dessert</td>\n",
       "      <td>Punjab</td>\n",
       "      <td>North</td>\n",
       "      <td>Gajar ka halwa is a vegetarian dessert from Pu...</td>\n",
       "    </tr>\n",
       "    <tr>\n",
       "      <th>3</th>\n",
       "      <td>Ghevar</td>\n",
       "      <td>Flour, ghee, kewra, milk, clarified butter, su...</td>\n",
       "      <td>vegetarian</td>\n",
       "      <td>15</td>\n",
       "      <td>30</td>\n",
       "      <td>sweet</td>\n",
       "      <td>dessert</td>\n",
       "      <td>Rajasthan</td>\n",
       "      <td>West</td>\n",
       "      <td>Ghevar is a vegetarian dessert from Rajasthan ...</td>\n",
       "    </tr>\n",
       "    <tr>\n",
       "      <th>4</th>\n",
       "      <td>Gulab jamun</td>\n",
       "      <td>Milk powder, plain flour, baking powder, ghee,...</td>\n",
       "      <td>vegetarian</td>\n",
       "      <td>15</td>\n",
       "      <td>40</td>\n",
       "      <td>sweet</td>\n",
       "      <td>dessert</td>\n",
       "      <td>West Bengal</td>\n",
       "      <td>East</td>\n",
       "      <td>Gulab jamun is a vegetarian dessert from West ...</td>\n",
       "    </tr>\n",
       "    <tr>\n",
       "      <th>...</th>\n",
       "      <td>...</td>\n",
       "      <td>...</td>\n",
       "      <td>...</td>\n",
       "      <td>...</td>\n",
       "      <td>...</td>\n",
       "      <td>...</td>\n",
       "      <td>...</td>\n",
       "      <td>...</td>\n",
       "      <td>...</td>\n",
       "      <td>...</td>\n",
       "    </tr>\n",
       "    <tr>\n",
       "      <th>250</th>\n",
       "      <td>Til Pitha</td>\n",
       "      <td>Glutinous rice, black sesame seeds, gur</td>\n",
       "      <td>vegetarian</td>\n",
       "      <td>5</td>\n",
       "      <td>30</td>\n",
       "      <td>sweet</td>\n",
       "      <td>dessert</td>\n",
       "      <td>Assam</td>\n",
       "      <td>North East</td>\n",
       "      <td>Til Pitha is a vegetarian dessert from Assam i...</td>\n",
       "    </tr>\n",
       "    <tr>\n",
       "      <th>251</th>\n",
       "      <td>Bebinca</td>\n",
       "      <td>Coconut milk, egg yolks, clarified butter, all...</td>\n",
       "      <td>vegetarian</td>\n",
       "      <td>20</td>\n",
       "      <td>60</td>\n",
       "      <td>sweet</td>\n",
       "      <td>dessert</td>\n",
       "      <td>Goa</td>\n",
       "      <td>West</td>\n",
       "      <td>Bebinca is a vegetarian dessert from Goa in th...</td>\n",
       "    </tr>\n",
       "    <tr>\n",
       "      <th>252</th>\n",
       "      <td>Shufta</td>\n",
       "      <td>Cottage cheese, dry dates, dried rose petals, ...</td>\n",
       "      <td>vegetarian</td>\n",
       "      <td>-1</td>\n",
       "      <td>-1</td>\n",
       "      <td>sweet</td>\n",
       "      <td>dessert</td>\n",
       "      <td>Jammu &amp; Kashmir</td>\n",
       "      <td>North</td>\n",
       "      <td>Shufta is a vegetarian dessert from Jammu &amp; Ka...</td>\n",
       "    </tr>\n",
       "    <tr>\n",
       "      <th>253</th>\n",
       "      <td>Mawa Bati</td>\n",
       "      <td>Milk powder, dry fruits, arrowroot powder, all...</td>\n",
       "      <td>vegetarian</td>\n",
       "      <td>20</td>\n",
       "      <td>45</td>\n",
       "      <td>sweet</td>\n",
       "      <td>dessert</td>\n",
       "      <td>Madhya Pradesh</td>\n",
       "      <td>Central</td>\n",
       "      <td>Mawa Bati is a vegetarian dessert from Madhya ...</td>\n",
       "    </tr>\n",
       "    <tr>\n",
       "      <th>254</th>\n",
       "      <td>Pinaca</td>\n",
       "      <td>Brown rice, fennel seeds, grated coconut, blac...</td>\n",
       "      <td>vegetarian</td>\n",
       "      <td>-1</td>\n",
       "      <td>-1</td>\n",
       "      <td>sweet</td>\n",
       "      <td>dessert</td>\n",
       "      <td>Goa</td>\n",
       "      <td>West</td>\n",
       "      <td>Pinaca is a vegetarian dessert from Goa in the...</td>\n",
       "    </tr>\n",
       "  </tbody>\n",
       "</table>\n",
       "<p>255 rows × 10 columns</p>\n",
       "</div>"
      ],
      "text/plain": [
       "               name                                        ingredients        diet  prep_time  \\\n",
       "0        Balu shahi                    Maida flour, yogurt, oil, sugar  vegetarian         45   \n",
       "1            Boondi                            Gram flour, ghee, sugar  vegetarian         80   \n",
       "2    Gajar ka halwa       Carrots, milk, sugar, ghee, cashews, raisins  vegetarian         15   \n",
       "3            Ghevar  Flour, ghee, kewra, milk, clarified butter, su...  vegetarian         15   \n",
       "4       Gulab jamun  Milk powder, plain flour, baking powder, ghee,...  vegetarian         15   \n",
       "..              ...                                                ...         ...        ...   \n",
       "250       Til Pitha            Glutinous rice, black sesame seeds, gur  vegetarian          5   \n",
       "251         Bebinca  Coconut milk, egg yolks, clarified butter, all...  vegetarian         20   \n",
       "252          Shufta  Cottage cheese, dry dates, dried rose petals, ...  vegetarian         -1   \n",
       "253       Mawa Bati  Milk powder, dry fruits, arrowroot powder, all...  vegetarian         20   \n",
       "254          Pinaca  Brown rice, fennel seeds, grated coconut, blac...  vegetarian         -1   \n",
       "\n",
       "     cook_time flavor_profile   course            state      region  \\\n",
       "0           25          sweet  dessert      West Bengal        East   \n",
       "1           30          sweet  dessert        Rajasthan        West   \n",
       "2           60          sweet  dessert           Punjab       North   \n",
       "3           30          sweet  dessert        Rajasthan        West   \n",
       "4           40          sweet  dessert      West Bengal        East   \n",
       "..         ...            ...      ...              ...         ...   \n",
       "250         30          sweet  dessert            Assam  North East   \n",
       "251         60          sweet  dessert              Goa        West   \n",
       "252         -1          sweet  dessert  Jammu & Kashmir       North   \n",
       "253         45          sweet  dessert   Madhya Pradesh     Central   \n",
       "254         -1          sweet  dessert              Goa        West   \n",
       "\n",
       "                                           description  \n",
       "0    Balu shahi is a vegetarian dessert from West B...  \n",
       "1    Boondi is a vegetarian dessert from Rajasthan ...  \n",
       "2    Gajar ka halwa is a vegetarian dessert from Pu...  \n",
       "3    Ghevar is a vegetarian dessert from Rajasthan ...  \n",
       "4    Gulab jamun is a vegetarian dessert from West ...  \n",
       "..                                                 ...  \n",
       "250  Til Pitha is a vegetarian dessert from Assam i...  \n",
       "251  Bebinca is a vegetarian dessert from Goa in th...  \n",
       "252  Shufta is a vegetarian dessert from Jammu & Ka...  \n",
       "253  Mawa Bati is a vegetarian dessert from Madhya ...  \n",
       "254  Pinaca is a vegetarian dessert from Goa in the...  \n",
       "\n",
       "[255 rows x 10 columns]"
      ]
     },
     "execution_count": 252,
     "metadata": {},
     "output_type": "execute_result"
    }
   ],
   "source": [
    "# Import the libraries\n",
    "#!pip install openpyxl\n",
    "import pandas as pd\n",
    "from IPython.display import display, HTML\n",
    "# Set the display width to control the output width\n",
    "pd.set_option('display.width', 100)\n",
    "# Read the dataset and read the Laptop Dataset\n",
    "df = pd.read_csv('Indian_food_with_full_description.csv')\n",
    "df"
   ]
  },
  {
   "cell_type": "code",
   "execution_count": 253,
   "id": "08c96109-26ad-4a79-89d8-73b020adc5fb",
   "metadata": {},
   "outputs": [
    {
     "name": "stdout",
     "output_type": "stream",
     "text": [
      "<class 'pandas.core.frame.DataFrame'>\n",
      "RangeIndex: 255 entries, 0 to 254\n",
      "Data columns (total 10 columns):\n",
      " #   Column          Non-Null Count  Dtype \n",
      "---  ------          --------------  ----- \n",
      " 0   name            255 non-null    object\n",
      " 1   ingredients     255 non-null    object\n",
      " 2   diet            255 non-null    object\n",
      " 3   prep_time       255 non-null    int64 \n",
      " 4   cook_time       255 non-null    int64 \n",
      " 5   flavor_profile  255 non-null    object\n",
      " 6   course          255 non-null    object\n",
      " 7   state           255 non-null    object\n",
      " 8   region          254 non-null    object\n",
      " 9   description     255 non-null    object\n",
      "dtypes: int64(2), object(8)\n",
      "memory usage: 20.0+ KB\n"
     ]
    }
   ],
   "source": [
    "df.info()"
   ]
  },
  {
   "cell_type": "markdown",
   "id": "296ab8b9-5b67-4c84-ad4c-7f06bdc3a903",
   "metadata": {},
   "source": [
    "##### BUilding a Food recipe recommendation Chatbot #####\n",
    "\n",
    "Now let's go ahead and understand the system design for the chatbot.\n"
   ]
  },
  {
   "cell_type": "markdown",
   "id": "47575cfa-d79a-4fbe-8509-9d4a892e6ea5",
   "metadata": {},
   "source": [
    "`Stage 1`:\n",
    "- Intent clarity.\n",
    "- Intent Confirmation. \n",
    "\n",
    "`Stage 2`:\n",
    "- Product Mapping Layer. \n",
    "- Product Information Extraction Layer. \n",
    "\n",
    "`Stage 3`:\n",
    "- Product Recommendation Layer. \n"
   ]
  },
  {
   "cell_type": "markdown",
   "id": "7679cf41-8d8f-4752-81ff-ca33e5dd6e6e",
   "metadata": {},
   "source": [
    "##### Major functions behind the Chatbot\n",
    "\n",
    "Let's now look at a brief overview of the major functions that form the chatbot. We'll take a deep dive later\n",
    "\n",
    "- `initialize_conversation()`: This initializes the variable conversation with the system message.\n",
    "- `get_chat_completions()`: This takes the ongoing conversation as the input and returns the response by the assistant\n",
    "- `moderation_check()`: This checks if the user's or the assistant's message is inappropriate. If any of these is inappropriate, it ends the conversation.\n",
    "- `intent_confirmation_layer()`: This function takes the assistant's response and evaluates if the chatbot has captured the user's profile clearly. Specifically, this checks if the following properties for the user has been captured or not GPU intensity, Display quality, Portability, Multitasking, Processing speed, Budget\n",
    "- `dictionary_present()`: This function checks if the final understanding of user's profile is returned by the chatbot as a python dictionary or not. If there is a dictionary, it extracts the information as a Python dictionary.\n",
    "- `compare_laptops_with_user()`: This function compares the user's profile with the different laptops and come back with the top 3 recommendations.\n",
    "- `initialize_conv_reco()`: Initializes the recommendations conversation"
   ]
  },
  {
   "cell_type": "code",
   "execution_count": 254,
   "id": "48d40606-6d64-47ed-b0f3-95a246a32b88",
   "metadata": {},
   "outputs": [],
   "source": [
    "# Import the libraries\n",
    "import os, json, ast\n",
    "import openai\n",
    "from tenacity import retry, wait_random_exponential, stop_after_attempt"
   ]
  },
  {
   "cell_type": "code",
   "execution_count": 255,
   "id": "67c35748-f562-493d-812b-6fc17462853a",
   "metadata": {},
   "outputs": [],
   "source": [
    "openai.api_key = open(\"../MamathaK_Key.txt\",'r').read().strip()\n",
    "os.environ['OPENAI_API_KEY'] = openai.api_key"
   ]
  },
  {
   "cell_type": "code",
   "execution_count": 424,
   "id": "87f4f758-40fa-45b9-8f45-88b162c66985",
   "metadata": {},
   "outputs": [],
   "source": [
    "def initialize_conversation(data):\n",
    "    '''Return's a list [{\"role\":\"system\", \"content\": system_message}]'''\n",
    "    df=data.copy()\n",
    "    # Example references (keep them short so system prompt is not huge)\n",
    "    dish_names = df['name'].unique().tolist()[:20]   # sample first 20 dish names\n",
    "    dataset_preview = df.head(5).to_dict(orient=\"records\")  # show first 5 rows as dicts\n",
    "\n",
    "    delimiter = \"#####\"\n",
    "    recipe_ghevar = f\"\"\"Step 1 Melt ghee and add ice cubes in it to purify it To prepare this authentic Rajasthani delicacy,\n",
    "                  heat some ghee in a heavy-bottomed pan and once the ghee is hot enough, turn off the flame and add ice cubes. \n",
    "        This will extract the impurities and only pure ghee will remain in the pan.\n",
    "        Step 2 Prepare the Ghevar batter and fry in ghee Make sure you beat the ghee and ice well until the texture turns foamy.\n",
    "        Now add flour to the ghee and prepare the batter. \n",
    "        Heat ghee in a heavy-bottomed pan, place a circular mould and start pouring the batter in centre, fry till it is golden brown.\n",
    "        Step 3 Prepare the sugar syrup for the Ghevar Now, to prepare the sugar syrup for the main dish, \n",
    "        heat water and sugar till the sugar dissolves completely. Add the fried Ghevar to the warm syrup and remove.\n",
    "        Step 4 Prepare the Malai Ghevar with fresh malai To make the malai, heat milk, sugar,\n",
    "        cardamom powder, saffron and reduce to half. Allow the malai coating to settle down and thicken.\n",
    "        Top the malai on the ghevar and garnish with chopped nuts and saffron strands\"\"\"\n",
    "\n",
    "    ingredient_ghevar = f\"\"\" For Ghevar Batter : 1 cup all-purpose flour (maida), ¼ cup ghee (clarified butter) chilled, ½ cup chilled milk\n",
    "    1½ to 2 cups chilled water (as needed),Ice cubes (for mixing).\n",
    "    For Sugar Syrup:1 cup sugar ,½ cup water, 2–3 cardamom pods crushed, Few strands saffron (optional)\n",
    "    For Garnish: Chopped pistachios & almonds ,Silver leaf (varq) (optional), Rabri (for special ghevar) \"\"\"\n",
    "    \n",
    "    recipe_laddu = f\"\"\"Method:Roast the flour, Heat a heavy-bottomed pan and add the ghee.\n",
    "        Add besan and roast on low flame, stirring continuously.\n",
    "        Roast until it turns golden brown and you get a nutty aroma (8–10 minutes). Add cardamom & nuts\n",
    "        Add chopped nuts and raisins, roast for 1–2 minutes. Turn off the heat and let the mixture cool slightly.\n",
    "        Add sugar, Once warm (not hot), mix in powdered sugar and cardamom powder.Stir well until evenly combined.Shape laddus\n",
    "        Take small portions of the mixture in your palm and shape them into round laddus. Cool & store. \n",
    "        Let them set for 15–20 minutes. Store in an airtight container.\"\"\"\n",
    "\n",
    "    ingredient_laddu = f\"\"\" 2 cups besan (gram flour), 1 cup powdered sugar,1/2 cup ghee (clarified butter),\n",
    "    4–5 cardamom pods (powdered),8–10 cashews or almonds (chopped, optional), 1 tbsp raisins (optional)\"\"\"\n",
    "    \n",
    "    example_user_dict2 = {\n",
    "        'name' : 'laddu',\n",
    "        'ingredients': ingredient_laddu,\n",
    "        'diet':'vegetarian',\n",
    "        'prep_time': 10,\n",
    "        'cook_time':40,\n",
    "        'course':'desert',\n",
    "        'flavor_profile':'sweet',\n",
    "        'state': '-',\n",
    "        'region':'-',\n",
    "        'method': recipe_laddu\n",
    "    }\n",
    "    \n",
    "    example_user_dict={\n",
    "        'name' : 'Ghevar',\n",
    "        'ingredients': ingredient_ghevar,\n",
    "        'diet' : 'vegetarian',\n",
    "        'prep_time': 15,\n",
    "        'cook_time':  30,\n",
    "        'flavor_profile': 'sweet',\n",
    "        'course': 'dessert',\n",
    "        'state': 'Rajasthan',\n",
    "        'region': 'West',\n",
    "        'method': recipe_ghevar\n",
    "    }\n",
    "    user_req = {\n",
    "        \"ingredients\": \"carrots\",\n",
    "        \"diet\":\"vegetarian\",\n",
    "        \"prep_time\":15,\n",
    "        \"cook_time\": 60,\n",
    "        \"flavor_profile\": \"Sweet\",\n",
    "        \"course\": \"Dessert\",\n",
    "        \"state\": \"Punjab\",\n",
    "        \"region\": \"North\",\n",
    "    }    \n",
    "    example_user_req={ 'name' : \"-\",\n",
    "        'ingredients': \"-\",\n",
    "        'diet' : '-',\n",
    "        'prep_time': '-',\n",
    "        'cook_time':  '-',\n",
    "        'flavor_profile': '-',\n",
    "        'course': '-',\n",
    "        'state': '-',\n",
    "        'region': '-',\n",
    "        'method': '-'\n",
    "        }\n",
    "    sample ={\n",
    "                \"ingredients\": \"jaggery\",\n",
    "                \"diet\" : \"vegetarian\",\n",
    "                \"prep_time\" : \"10 mins\",\n",
    "                \"cook_time\" :  \"15 mins\",\n",
    "                \"flavor_profile\": \"sweet\",\n",
    "                \"course\" : \"starter\",\n",
    "                \"state\" : \"Rajasthan\",\n",
    "                \"region\" : \"South\",\n",
    "                }\n",
    "\n",
    "    \n",
    "    system_message = f\"\"\"\n",
    "        You are an intelligent cooking assistant who will suggest strictly Indian Food Recipes for end users.\n",
    "        You will strictly reject any other queries from endusers and prompt again for request related to Indian Food recipes.\n",
    "        {delimiter}\n",
    "\n",
    "        You will get requirement from user input.\n",
    "        Input can be of two types\n",
    "            1. User will input dishname name directly. In this case cooking assistant will check if dishname exists in dataframe df in column 'name'.\n",
    "                if Yes, then only it will get recipe from Internet and update it in 'method' key of python dictionary. \n",
    "                Remaining keys \"ingredients\",'cook_time','prep_time','diet','flavor_profile','course','region','state' values will be obtained from dataframe df row where dishname is found in column name 'name'.\n",
    "                Close request. \n",
    "                example of one such output expected: {example_user_dict}\n",
    "            2. Is the user asks cooking assistant for suggestion or recipe with specific keys, then cooking assistant will ask for series of questions until \n",
    "                cooking assistant gets all the required information. Cooking assistant will get information about fields diet,prep_time,cook_time,flavor_profile,course,state,region,ingredients\n",
    "                by asking series of questions and map these into python dictionary. Compulsorily and must ask questions until you extract values for all keys diet,prep_time,cook_time,flavor_profile,course,state,region,ingredients\n",
    "                Example of python dictionary should look something like {user_req}. \n",
    "                There will not be \"method\" key in python dictionary. Output the python dictionary for further actions.\n",
    "                example of one such food recipe dictionary is {user_req} \n",
    "\n",
    " \n",
    "        {delimiter}\n",
    "\n",
    "        Thought 1: Ask the questions to understand the  user requirements. \n",
    "        Ask follow-up questions to provide {example_user_req} key values (except for method key) if you are not able to extract. \n",
    "        Remember the conditions to ask questions to fill the key values for [\"ingredients\",'cook_time','prep_time','diet','flavor_profile','course','region','state'] , ask relevant questions if unclear or values doesnt meet the conditions\n",
    "        mentioned above and fill values from users input.\n",
    "        acceptable inputs for each key is as follows:\n",
    "        \"ingredients\" : <Can be list of grocery items single or multiple. If information is provided in single string convert it to meaning list of ingredients.>\n",
    "        \"cook_time\" : <Remember cook_time can be \"cook time\" or \"cooking time\" or \"time taken to cook\". eg: 1) 15 mins, 2) 15 ,3) 15 minutes 4) ten minutes>\n",
    "        \"prep_time\" : <prep_time is \"preparation_time\" or \"prep time\" or \"time taken to prepare\". eg: 1) 15 mins, 2) 15 ,3) 15 minutes 4) ten minutes>\n",
    "        \"diet\" : <vegetarian|non-vegatarian>\n",
    "        \"course\": <main course|snack|starter|dessert>\n",
    "        \"flavor_profile\" : <sweet|savory|spicy|bitter>\n",
    "        \"region\":<North|South|East|West>\n",
    "        \"state\":<Any state part of country India>\n",
    "        Rephrase the question to capture their necessary information clearly in python dictionary. \\n\n",
    "        {delimiter}\n",
    "        Thought 2: Now you are trying to fill the values for rest of the keys which you didnt get information from previous step. \n",
    "        Remember the instructions set for values for different keys. \n",
    "        Ask questions on remaining fields/keys to get their values to strengthen your understanding of the user's profile.\n",
    "        \n",
    "        If yes, move to the next Thought. If no, ask question on the keys whose values you are unsure of. \\n\n",
    "        It is a good practice to ask question with a sound logic as opposed to directly citing the key you want to understand value for.\n",
    "        {delimiter}\n",
    "        Thought 3: Check if you have correctly updated the values for all keys - diet,prep_time,cook_time,flavor_profile,course,state,region,ingredients inside dictionary. \n",
    "        It should have values for all keys. '-' is not value hence ask question to get right value for keys having value '-'. \n",
    "        Revalidate if all fields/keys are updated compulsorily.\n",
    "        {delimiter}\n",
    "        \n",
    "        Start with small conversation and encourage user to share the requirements\n",
    "        If user mentions direct dish name and the dish name exists in 'name' column in dataframe df then only obtain required information from dataset and method from Internet.\n",
    "        else reject saying dish name not found in dataset. \n",
    "        if users mentions other fields and not dish name then, go step by step to get details for fields [\"diet\",\"prep_time\",\"cook_time\",\"flavor_profile\",\"course\",\"state\",\"region\",\"ingredients\"]\n",
    "        and map it to python dictionary. \"method\" will not be set strictly.\n",
    "\n",
    "        {delimiter}\n",
    "        Here is the sample conversation between user and assistant.\n",
    "        Sample 1:\n",
    "        Assistant: Great ! I'm an expert in suggesting Indian recipes. Do you have any specific dish in mind. I can suggest recipe on how to prepare it ??\n",
    "        User : Sure, I want to prepare Laddu\n",
    "        Assistant: Great Choice!! Let me grab recipe for preparing laddu. Here is the recipe for laddu.\n",
    "        Assistant : {example_user_dict2}\n",
    "        {delimiter}\n",
    "        Sample 2:\n",
    "        Assistant: Hi, i'm cooking assistant how can i help you ?\n",
    "        User : Hi i need recipe that requires preparation time less than 10 mins and cooking time 15 mins and dish should from Rajasthan. It should be starter.\n",
    "        Assistant : Great ! i'm am a expert in Suggesting Indian recipes for cooking I see want a recipe from Rajasthan with prep_time 10 mins and cooking_time for 15 mins.Should the dessert be sweet or savory ??\n",
    "        User: Sweet\n",
    "        Assistant : Should it be vegetarian or non-vegetarian ?\n",
    "        User: vegetarian. \n",
    "        Assistant: Any ingredients to use in mind \n",
    "        User: Jaggery\n",
    "        Assistant : Sure., dessert from which region would like to prefer east, south, west ot north ??\n",
    "        User: South.\n",
    "        Assistant : {sample}\n",
    "        {delimiter}\n",
    "        Sample 3:\n",
    "        User: Hi i need recipe of karjikayi\n",
    "        Assistant: Great! let me check if this information is available in my dataset.\n",
    "                  Sorry, I dont have information enabled for Karjikayi in my dataset. Please check internet to get recipe for karjikayi.\n",
    "        {delimiter}\n",
    "\n",
    "        \"\"\"\n",
    "    conversation = [{\"role\" : \"system\",\"content\": system_message }]\n",
    "    return(conversation)\n",
    "    "
   ]
  },
  {
   "cell_type": "code",
   "execution_count": 425,
   "id": "257c3362-5e3f-4ee5-9bb7-550c17fae62e",
   "metadata": {
    "scrolled": true
   },
   "outputs": [
    {
     "name": "stdout",
     "output_type": "stream",
     "text": [
      "[{'role': 'system', 'content': '\\n        You are an intelligent cooking assistant who will suggest strictly Indian Food Recipes for end users.\\n        You will strictly reject any other queries from endusers and prompt again for request related to Indian Food recipes.\\n        #####\\n\\n        You will get requirement from user input.\\n        Input can be of two types\\n            1. User will input dishname name directly. In this case cooking assistant will check if dishname exists in dataframe df in column \\'name\\'.\\n                if Yes, then only it will get recipe from Internet and update it in \\'method\\' key of python dictionary. \\n                Remaining keys \"ingredients\",\\'cook_time\\',\\'prep_time\\',\\'diet\\',\\'flavor_profile\\',\\'course\\',\\'region\\',\\'state\\' values will be obtained from dataframe df row where dishname is found in column name \\'name\\'.\\n                Close request. \\n                example of one such output expected: {\\'name\\': \\'Ghevar\\', \\'ingredients\\': \\' For Ghevar Batter : 1 cup all-purpose flour (maida), ¼ cup ghee (clarified butter) chilled, ½ cup chilled milk\\\\n    1½ to 2 cups chilled water (as needed),Ice cubes (for mixing).\\\\n    For Sugar Syrup:1 cup sugar ,½ cup water, 2–3 cardamom pods crushed, Few strands saffron (optional)\\\\n    For Garnish: Chopped pistachios & almonds ,Silver leaf (varq) (optional), Rabri (for special ghevar) \\', \\'diet\\': \\'vegetarian\\', \\'prep_time\\': 15, \\'cook_time\\': 30, \\'flavor_profile\\': \\'sweet\\', \\'course\\': \\'dessert\\', \\'state\\': \\'Rajasthan\\', \\'region\\': \\'West\\', \\'method\\': \\'Step 1 Melt ghee and add ice cubes in it to purify it To prepare this authentic Rajasthani delicacy,\\\\n                  heat some ghee in a heavy-bottomed pan and once the ghee is hot enough, turn off the flame and add ice cubes. \\\\n        This will extract the impurities and only pure ghee will remain in the pan.\\\\n        Step 2 Prepare the Ghevar batter and fry in ghee Make sure you beat the ghee and ice well until the texture turns foamy.\\\\n        Now add flour to the ghee and prepare the batter. \\\\n        Heat ghee in a heavy-bottomed pan, place a circular mould and start pouring the batter in centre, fry till it is golden brown.\\\\n        Step 3 Prepare the sugar syrup for the Ghevar Now, to prepare the sugar syrup for the main dish, \\\\n        heat water and sugar till the sugar dissolves completely. Add the fried Ghevar to the warm syrup and remove.\\\\n        Step 4 Prepare the Malai Ghevar with fresh malai To make the malai, heat milk, sugar,\\\\n        cardamom powder, saffron and reduce to half. Allow the malai coating to settle down and thicken.\\\\n        Top the malai on the ghevar and garnish with chopped nuts and saffron strands\\'}\\n            2. Is the user asks cooking assistant for suggestion or recipe with specific keys, then cooking assistant will ask for series of questions until \\n                cooking assistant gets all the required information. Cooking assistant will get information about fields diet,prep_time,cook_time,flavor_profile,course,state,region,ingredients\\n                by asking series of questions and map these into python dictionary. Compulsorily and must ask questions until you extract values for all keys diet,prep_time,cook_time,flavor_profile,course,state,region,ingredients\\n                Example of python dictionary should look something like {\\'ingredients\\': \\'carrots\\', \\'diet\\': \\'vegetarian\\', \\'prep_time\\': 15, \\'cook_time\\': 60, \\'flavor_profile\\': \\'Sweet\\', \\'course\\': \\'Dessert\\', \\'state\\': \\'Punjab\\', \\'region\\': \\'North\\'}. \\n                There will not be \"method\" key in python dictionary. Output the python dictionary for further actions.\\n                example of one such food recipe dictionary is {\\'ingredients\\': \\'carrots\\', \\'diet\\': \\'vegetarian\\', \\'prep_time\\': 15, \\'cook_time\\': 60, \\'flavor_profile\\': \\'Sweet\\', \\'course\\': \\'Dessert\\', \\'state\\': \\'Punjab\\', \\'region\\': \\'North\\'} \\n\\n \\n        #####\\n\\n        Thought 1: Ask the questions to understand the  user requirements. \\n        Ask follow-up questions to provide {\\'name\\': \\'-\\', \\'ingredients\\': \\'-\\', \\'diet\\': \\'-\\', \\'prep_time\\': \\'-\\', \\'cook_time\\': \\'-\\', \\'flavor_profile\\': \\'-\\', \\'course\\': \\'-\\', \\'state\\': \\'-\\', \\'region\\': \\'-\\', \\'method\\': \\'-\\'} key values (except for method key) if you are not able to extract. \\n        Remember the conditions to ask questions to fill the key values for [\"ingredients\",\\'cook_time\\',\\'prep_time\\',\\'diet\\',\\'flavor_profile\\',\\'course\\',\\'region\\',\\'state\\'] , ask relevant questions if unclear or values doesnt meet the conditions\\n        mentioned above and fill values from users input.\\n        acceptable inputs for each key is as follows:\\n        \"ingredients\" : <Can be list of grocery items single or multiple. If information is provided in single string convert it to meaning list of ingredients.>\\n        \"cook_time\" : <Remember cook_time can be \"cook time\" or \"cooking time\" or \"time taken to cook\". eg: 1) 15 mins, 2) 15 ,3) 15 minutes 4) ten minutes>\\n        \"prep_time\" : <prep_time is \"preparation_time\" or \"prep time\" or \"time taken to prepare\". eg: 1) 15 mins, 2) 15 ,3) 15 minutes 4) ten minutes>\\n        \"diet\" : <vegetarian|non-vegatarian>\\n        \"course\": <main course|snack|starter|dessert>\\n        \"flavor_profile\" : <sweet|savory|spicy|bitter>\\n        \"region\":<North|South|East|West>\\n        \"state\":<Any state part of country India>\\n        Rephrase the question to capture their necessary information clearly in python dictionary. \\n\\n        #####\\n        Thought 2: Now you are trying to fill the values for rest of the keys which you didnt get information from previous step. \\n        Remember the instructions set for values for different keys. \\n        Ask questions on remaining fields/keys to get their values to strengthen your understanding of the user\\'s profile.\\n        \\n        If yes, move to the next Thought. If no, ask question on the keys whose values you are unsure of. \\n\\n        It is a good practice to ask question with a sound logic as opposed to directly citing the key you want to understand value for.\\n        #####\\n        Thought 3: Check if you have correctly updated the values for all keys - diet,prep_time,cook_time,flavor_profile,course,state,region,ingredients inside dictionary. \\n        It should have values for all keys. \\'-\\' is not value hence ask question to get right value for keys having value \\'-\\'. \\n        Revalidate if all fields/keys are updated compulsorily.\\n        #####\\n        \\n        Start with small conversation and encourage user to share the requirements\\n        If user mentions direct dish name and the dish name exists in \\'name\\' column in dataframe df then only obtain required information from dataset and method from Internet.\\n        else reject saying dish name not found in dataset. \\n        if users mentions other fields and not dish name then, go step by step to get details for fields [\"diet\",\"prep_time\",\"cook_time\",\"flavor_profile\",\"course\",\"state\",\"region\",\"ingredients\"]\\n        and map it to python dictionary. \"method\" will not be set strictly.\\n\\n        #####\\n        Here is the sample conversation between user and assistant.\\n        Sample 1:\\n        Assistant: Great ! I\\'m an expert in suggesting Indian recipes. Do you have any specific dish in mind. I can suggest recipe on how to prepare it ??\\n        User : Sure, I want to prepare Laddu\\n        Assistant: Great Choice!! Let me grab recipe for preparing laddu. Here is the recipe for laddu.\\n        Assistant : {\\'name\\': \\'laddu\\', \\'ingredients\\': \\' 2 cups besan (gram flour), 1 cup powdered sugar,1/2 cup ghee (clarified butter),\\\\n    4–5 cardamom pods (powdered),8–10 cashews or almonds (chopped, optional), 1 tbsp raisins (optional)\\', \\'diet\\': \\'vegetarian\\', \\'prep_time\\': 10, \\'cook_time\\': 40, \\'course\\': \\'desert\\', \\'flavor_profile\\': \\'sweet\\', \\'state\\': \\'-\\', \\'region\\': \\'-\\', \\'method\\': \\'Method:Roast the flour, Heat a heavy-bottomed pan and add the ghee.\\\\n        Add besan and roast on low flame, stirring continuously.\\\\n        Roast until it turns golden brown and you get a nutty aroma (8–10 minutes). Add cardamom & nuts\\\\n        Add chopped nuts and raisins, roast for 1–2 minutes. Turn off the heat and let the mixture cool slightly.\\\\n        Add sugar, Once warm (not hot), mix in powdered sugar and cardamom powder.Stir well until evenly combined.Shape laddus\\\\n        Take small portions of the mixture in your palm and shape them into round laddus. Cool & store. \\\\n        Let them set for 15–20 minutes. Store in an airtight container.\\'}\\n        #####\\n        Sample 2:\\n        Assistant: Hi, i\\'m cooking assistant how can i help you ?\\n        User : Hi i need recipe that requires preparation time less than 10 mins and cooking time 15 mins and dish should from Rajasthan. It should be starter.\\n        Assistant : Great ! i\\'m am a expert in Suggesting Indian recipes for cooking I see want a recipe from Rajasthan with prep_time 10 mins and cooking_time for 15 mins.Should the dessert be sweet or savory ??\\n        User: Sweet\\n        Assistant : Should it be vegetarian or non-vegetarian ?\\n        User: vegetarian. \\n        Assistant: Any ingredients to use in mind \\n        User: Jaggery\\n        Assistant : Sure., dessert from which region would like to prefer east, south, west ot north ??\\n        User: South.\\n        Assistant : {\\'ingredients\\': \\'jaggery\\', \\'diet\\': \\'vegetarian\\', \\'prep_time\\': \\'10 mins\\', \\'cook_time\\': \\'15 mins\\', \\'flavor_profile\\': \\'sweet\\', \\'course\\': \\'starter\\', \\'state\\': \\'Rajasthan\\', \\'region\\': \\'South\\'}\\n        #####\\n        Sample 3:\\n        User: Hi i need recipe of karjikayi\\n        Assistant: Great! let me check if this information is available in my dataset.\\n                  Sorry, I dont have information enabled for Karjikayi in my dataset. Please check internet to get recipe for karjikayi.\\n        #####\\n\\n        '}]\n"
     ]
    }
   ],
   "source": [
    "debug_conversation = initialize_conversation(df)   \n",
    "print(debug_conversation)"
   ]
  },
  {
   "cell_type": "code",
   "execution_count": 426,
   "id": "ed14ac29-14ca-452e-affb-3fd9a25bdf85",
   "metadata": {},
   "outputs": [],
   "source": [
    "@retry(wait=wait_random_exponential(min=1, max=20), stop=stop_after_attempt(6))\n",
    "\n",
    "def get_chat_completions(input,json_format=False):\n",
    "    MODEL = \"gpt-3.5-turbo\"\n",
    "    system_message_json_output = \"\"\"<<. Return output in JSON format to the key output.>>\"\"\"\n",
    "\n",
    "    if(json_format == True):\n",
    "        input[0]['content'] += system_message_json_output\n",
    "\n",
    "        chat_completion_json= openai.chat.completions.create(\n",
    "            model=MODEL,\n",
    "            response_format={\"type\":\"json_object\"},\n",
    "            seed=1234,\n",
    "            messages=input\n",
    "        )\n",
    "        output = json.loads(chat_completion_json.choices[0].message.content)\n",
    "    else:\n",
    "        chat_completion = openai.chat.completions.create(\n",
    "            model = MODEL,\n",
    "            messages=input,\n",
    "            seed=1234,\n",
    "        )\n",
    "        output=chat_completion.choices[0].message.content\n",
    "\n",
    "    return(output)"
   ]
  },
  {
   "cell_type": "code",
   "execution_count": 427,
   "id": "8963f3e8-aec4-4229-9fc5-07ecfa9b167a",
   "metadata": {},
   "outputs": [
    {
     "data": {
      "text/plain": [
       "[{'role': 'user', 'content': 'What is the capital of France?'}]"
      ]
     },
     "execution_count": 427,
     "metadata": {},
     "output_type": "execute_result"
    }
   ],
   "source": [
    "# Testing the OpenAI functions defined above\n",
    "input_prompt ='What is the capital of France?'\n",
    "messages = [{'role':'user','content':input_prompt}]\n",
    "# system_message_json_output = \"\"\"<<. Return output in JSON format.>>\"\"\"\n",
    "# messages[0]['content']+=system_message_json_output\n",
    "messages"
   ]
  },
  {
   "cell_type": "code",
   "execution_count": 428,
   "id": "1942966a-ff1c-4332-b658-133e64965fc5",
   "metadata": {
    "scrolled": true
   },
   "outputs": [
    {
     "data": {
      "text/plain": [
       "'The capital of France is Paris.'"
      ]
     },
     "execution_count": 428,
     "metadata": {},
     "output_type": "execute_result"
    }
   ],
   "source": [
    "get_chat_completions(messages) ## Chat Completions API"
   ]
  },
  {
   "cell_type": "code",
   "execution_count": 429,
   "id": "773cf3bd-5fbf-438f-8b7f-50aea4b49573",
   "metadata": {},
   "outputs": [
    {
     "data": {
      "text/plain": [
       "{'output': 'Paris'}"
      ]
     },
     "execution_count": 429,
     "metadata": {},
     "output_type": "execute_result"
    }
   ],
   "source": [
    "## Get LLM Outputs - JSON output\n",
    "get_chat_completions(messages, json_format = True) ## Chat Completions API and return in JSON format"
   ]
  },
  {
   "cell_type": "markdown",
   "id": "5d0b089d-0749-4993-b301-67d7ad81d8a5",
   "metadata": {},
   "source": [
    "##### Debug user input and assistant response"
   ]
  },
  {
   "cell_type": "code",
   "execution_count": 430,
   "id": "a24b8e9d-07be-4d57-ba61-76c0338a72aa",
   "metadata": {},
   "outputs": [
    {
     "name": "stdout",
     "output_type": "stream",
     "text": [
      "HI, I need recipe taht has prep_Time 10 mins and cooking time 15 mins max and it should be savory\n"
     ]
    }
   ],
   "source": [
    "debug_conversation = initialize_conversation(df)\n",
    "debug_user_input = \"HI, I need recipe taht has prep_Time 10 mins and cooking time 15 mins max and it should be savory\"\n",
    "debug_conversation.append({\"role\":\"user\",\"content\":debug_user_input})\n",
    "print(debug_conversation[1][\"content\"])"
   ]
  },
  {
   "cell_type": "code",
   "execution_count": 431,
   "id": "7f5dc2f4-04e9-472c-9b1e-6da182977c4d",
   "metadata": {},
   "outputs": [
    {
     "name": "stdout",
     "output_type": "stream",
     "text": [
      "Great! I am an expert in suggesting Indian recipes for cooking. I see you want a recipe with a preparation time of 10 mins and cooking time of 15 mins max. Should the dish be vegetarian or non-vegetarian?\n"
     ]
    }
   ],
   "source": [
    "debug_response_assistant=get_chat_completions(debug_conversation)\n",
    "print(debug_response_assistant)"
   ]
  },
  {
   "cell_type": "code",
   "execution_count": 432,
   "id": "38b4f046-bfed-47c3-91a0-9f2603fc9b6a",
   "metadata": {},
   "outputs": [],
   "source": [
    "debug_conversation.append({\"role\":\"assistant\",\"content\":debug_response_assistant})"
   ]
  },
  {
   "cell_type": "markdown",
   "id": "a38cbcc6-b43d-4774-addb-42719bc376e0",
   "metadata": {},
   "source": [
    "##### Moderation Check :\n",
    "- This layer is required to check if user is asking in appropriate question. If yes the model should end  the conversation"
   ]
  },
  {
   "cell_type": "code",
   "execution_count": 433,
   "id": "85c0c855-3ad8-462a-b478-505174e1d9c2",
   "metadata": {},
   "outputs": [],
   "source": [
    "def moderation_layer(user_input):\n",
    "    response = openai.moderations.create(input=user_input)\n",
    "    moderation_output=response.results[0].flagged\n",
    "    if(response.results[0].flagged == True):\n",
    "        return(\"Flagged\")\n",
    "    else:\n",
    "        return(\"Not Flagged\")"
   ]
  },
  {
   "cell_type": "code",
   "execution_count": 434,
   "id": "26842d08-feb4-4415-b9b8-d5caca6be5ac",
   "metadata": {},
   "outputs": [
    {
     "name": "stdout",
     "output_type": "stream",
     "text": [
      "Flagged\n"
     ]
    }
   ],
   "source": [
    "op=moderation_layer(\"I want kill you\")\n",
    "print(op)"
   ]
  },
  {
   "cell_type": "code",
   "execution_count": 435,
   "id": "45028add-7d47-48eb-bed0-bebd9237fea1",
   "metadata": {},
   "outputs": [
    {
     "name": "stdout",
     "output_type": "stream",
     "text": [
      "Not Flagged\n"
     ]
    }
   ],
   "source": [
    "op=moderation_layer(\"You are good\")\n",
    "print(op)"
   ]
  },
  {
   "cell_type": "markdown",
   "id": "929b0034-a3a1-47a3-9902-6d63f655571a",
   "metadata": {},
   "source": [
    "##### Function Intent Confirmation Layer\n",
    "- Intent confirmation layer required to make sure all the required information is extracted for providing recipes\n",
    "- fields name, prep_time,cooking_time, region, state, diet,flavor_profile, course are extracted to get tailored response"
   ]
  },
  {
   "cell_type": "code",
   "execution_count": 574,
   "id": "94bd71c2-6252-4690-aae2-b69a4c12115d",
   "metadata": {},
   "outputs": [],
   "source": [
    "def intent_confirmation_layer(response_assistant):\n",
    "    \"\"\" The function will check if all the required information are gathered from user input. \n",
    "    if there is missing of information , please make sure to ask relevant question to gather information needed. \"\"\"\n",
    "    MODEL= \"gpt-3.5-turbo\"\n",
    "    delimiter = \"####\"\n",
    "    prompt = f\"\"\"\n",
    "    You are a senior evaluator who has an eye for detail.The input text will contain a user requirement captured through 8 keys.\n",
    "    You are provided an input. The order of keys is not important. User can provide requirement in different order. But all the keys should be updated with values compulsorily. You need to evaluate and map correct values to its respective keys:\n",
    "        {{ \n",
    "        ingredients: <string>,\n",
    "        diet: <vegetarian|non-vegetarian>,\n",
    "        prep_time: <number>,\n",
    "        cook_time: <number>,\n",
    "        flavor_profile: <sweet|bitter|spicy|savoury>,\n",
    "        state: <State in India>,\n",
    "        course: <main course|snack|starter|dessert>,\n",
    "        region: <North|South|East|West>\n",
    "    }}\n",
    "    Next you need to evaluate if the keys have the the values filled correctly.\n",
    "    Only output a one-word string in JSON format at the key 'result' - Yes/No.\n",
    "    Thought 1 - Output a string 'Yes' if the values are correctly filled for all keys ['ingredients','prep_time','cook_time','diet','flavor_profile','course','region','state'] , Print No as output if not.\n",
    "    Thought 2 - If the answer is No, mention the reason in the key 'reason'. List of keys not having values. Ignore 'recipe','name','description' keys strictly.\n",
    "    THought 3 - Think carefully before the answering. \n",
    "    \"\"\"\n",
    "    message=[{\"role\": \"system\", \"content\":prompt },\n",
    "              {\"role\": \"user\", \"content\":f\"\"\"Here is the input: {response_assistant}\"\"\" }]\n",
    "    response = openai.chat.completions.create(\n",
    "        model=MODEL,\n",
    "        messages=message,\n",
    "        seed=1234\n",
    "    )\n",
    "    output=json.loads(response.choices[0].message.content)\n",
    "    #print(response)\n",
    "    return(output)\n",
    "\n",
    "\n",
    "    "
   ]
  },
  {
   "cell_type": "code",
   "execution_count": 508,
   "id": "76e4346f-0d43-47ce-ba89-20b6999f5466",
   "metadata": {},
   "outputs": [
    {
     "name": "stdout",
     "output_type": "stream",
     "text": [
      "Great! I can help you with that. Should the starter be spicy, savory, sweet, or bitter?\n",
      "[{'role': 'system', 'content': '\\n        You are an intelligent cooking assistant who will suggest strictly Indian Food Recipes for end users.\\n        You will strictly reject any other queries from endusers and prompt again for request related to Indian Food recipes.\\n        #####\\n\\n        You will get requirement from user input.\\n        Input can be of two types\\n            1. User will input dishname name directly. In this case cooking assistant will check if dishname exists in dataframe df in column \\'name\\'.\\n                if Yes, then only it will get recipe from Internet and update it in \\'method\\' key of python dictionary. \\n                Remaining keys \"ingredients\",\\'cook_time\\',\\'prep_time\\',\\'diet\\',\\'flavor_profile\\',\\'course\\',\\'region\\',\\'state\\' values will be obtained from dataframe df row where dishname is found in column name \\'name\\'.\\n                Close request. \\n                example of one such output expected: {\\'name\\': \\'Ghevar\\', \\'ingredients\\': \\' For Ghevar Batter : 1 cup all-purpose flour (maida), ¼ cup ghee (clarified butter) chilled, ½ cup chilled milk\\\\n    1½ to 2 cups chilled water (as needed),Ice cubes (for mixing).\\\\n    For Sugar Syrup:1 cup sugar ,½ cup water, 2–3 cardamom pods crushed, Few strands saffron (optional)\\\\n    For Garnish: Chopped pistachios & almonds ,Silver leaf (varq) (optional), Rabri (for special ghevar) \\', \\'diet\\': \\'vegetarian\\', \\'prep_time\\': 15, \\'cook_time\\': 30, \\'flavor_profile\\': \\'sweet\\', \\'course\\': \\'dessert\\', \\'state\\': \\'Rajasthan\\', \\'region\\': \\'West\\', \\'method\\': \\'Step 1 Melt ghee and add ice cubes in it to purify it To prepare this authentic Rajasthani delicacy,\\\\n                  heat some ghee in a heavy-bottomed pan and once the ghee is hot enough, turn off the flame and add ice cubes. \\\\n        This will extract the impurities and only pure ghee will remain in the pan.\\\\n        Step 2 Prepare the Ghevar batter and fry in ghee Make sure you beat the ghee and ice well until the texture turns foamy.\\\\n        Now add flour to the ghee and prepare the batter. \\\\n        Heat ghee in a heavy-bottomed pan, place a circular mould and start pouring the batter in centre, fry till it is golden brown.\\\\n        Step 3 Prepare the sugar syrup for the Ghevar Now, to prepare the sugar syrup for the main dish, \\\\n        heat water and sugar till the sugar dissolves completely. Add the fried Ghevar to the warm syrup and remove.\\\\n        Step 4 Prepare the Malai Ghevar with fresh malai To make the malai, heat milk, sugar,\\\\n        cardamom powder, saffron and reduce to half. Allow the malai coating to settle down and thicken.\\\\n        Top the malai on the ghevar and garnish with chopped nuts and saffron strands\\'}\\n            2. Is the user asks cooking assistant for suggestion or recipe with specific keys, then cooking assistant will ask for series of questions until \\n                cooking assistant gets all the required information. Cooking assistant will get information about fields diet,prep_time,cook_time,flavor_profile,course,state,region,ingredients\\n                by asking series of questions and map these into python dictionary. Compulsorily and must ask questions until you extract values for all keys diet,prep_time,cook_time,flavor_profile,course,state,region,ingredients\\n                Example of python dictionary should look something like {\\'ingredients\\': \\'carrots\\', \\'diet\\': \\'vegetarian\\', \\'prep_time\\': 15, \\'cook_time\\': 60, \\'flavor_profile\\': \\'Sweet\\', \\'course\\': \\'Dessert\\', \\'state\\': \\'Punjab\\', \\'region\\': \\'North\\'}. \\n                There will not be \"method\" key in python dictionary. Output the python dictionary for further actions.\\n                example of one such food recipe dictionary is {\\'ingredients\\': \\'carrots\\', \\'diet\\': \\'vegetarian\\', \\'prep_time\\': 15, \\'cook_time\\': 60, \\'flavor_profile\\': \\'Sweet\\', \\'course\\': \\'Dessert\\', \\'state\\': \\'Punjab\\', \\'region\\': \\'North\\'} \\n\\n \\n        #####\\n\\n        Thought 1: Ask the questions to understand the  user requirements. \\n        Ask follow-up questions to provide {\\'name\\': \\'-\\', \\'ingredients\\': \\'-\\', \\'diet\\': \\'-\\', \\'prep_time\\': \\'-\\', \\'cook_time\\': \\'-\\', \\'flavor_profile\\': \\'-\\', \\'course\\': \\'-\\', \\'state\\': \\'-\\', \\'region\\': \\'-\\', \\'method\\': \\'-\\'} key values (except for method key) if you are not able to extract. \\n        Remember the conditions to ask questions to fill the key values for [\"ingredients\",\\'cook_time\\',\\'prep_time\\',\\'diet\\',\\'flavor_profile\\',\\'course\\',\\'region\\',\\'state\\'] , ask relevant questions if unclear or values doesnt meet the conditions\\n        mentioned above and fill values from users input.\\n        acceptable inputs for each key is as follows:\\n        \"ingredients\" : <Can be list of grocery items single or multiple. If information is provided in single string convert it to meaning list of ingredients.>\\n        \"cook_time\" : <Remember cook_time can be \"cook time\" or \"cooking time\" or \"time taken to cook\". eg: 1) 15 mins, 2) 15 ,3) 15 minutes 4) ten minutes>\\n        \"prep_time\" : <prep_time is \"preparation_time\" or \"prep time\" or \"time taken to prepare\". eg: 1) 15 mins, 2) 15 ,3) 15 minutes 4) ten minutes>\\n        \"diet\" : <vegetarian|non-vegatarian>\\n        \"course\": <main course|snack|starter|dessert>\\n        \"flavor_profile\" : <sweet|savory|spicy|bitter>\\n        \"region\":<North|South|East|West>\\n        \"state\":<Any state part of country India>\\n        Rephrase the question to capture their necessary information clearly in python dictionary. \\n\\n        #####\\n        Thought 2: Now you are trying to fill the values for rest of the keys which you didnt get information from previous step. \\n        Remember the instructions set for values for different keys. \\n        Ask questions on remaining fields/keys to get their values to strengthen your understanding of the user\\'s profile.\\n        \\n        If yes, move to the next Thought. If no, ask question on the keys whose values you are unsure of. \\n\\n        It is a good practice to ask question with a sound logic as opposed to directly citing the key you want to understand value for.\\n        #####\\n        Thought 3: Check if you have correctly updated the values for all keys - diet,prep_time,cook_time,flavor_profile,course,state,region,ingredients inside dictionary. \\n        It should have values for all keys. \\'-\\' is not value hence ask question to get right value for keys having value \\'-\\'. \\n        Revalidate if all fields/keys are updated compulsorily.\\n        #####\\n        \\n        Start with small conversation and encourage user to share the requirements\\n        If user mentions direct dish name and the dish name exists in \\'name\\' column in dataframe df then only obtain required information from dataset and method from Internet.\\n        else reject saying dish name not found in dataset. \\n        if users mentions other fields and not dish name then, go step by step to get details for fields [\"diet\",\"prep_time\",\"cook_time\",\"flavor_profile\",\"course\",\"state\",\"region\",\"ingredients\"]\\n        and map it to python dictionary. \"method\" will not be set strictly.\\n\\n        #####\\n        Here is the sample conversation between user and assistant.\\n        Sample 1:\\n        Assistant: Great ! I\\'m an expert in suggesting Indian recipes. Do you have any specific dish in mind. I can suggest recipe on how to prepare it ??\\n        User : Sure, I want to prepare Laddu\\n        Assistant: Great Choice!! Let me grab recipe for preparing laddu. Here is the recipe for laddu.\\n        Assistant : {\\'name\\': \\'laddu\\', \\'ingredients\\': \\' 2 cups besan (gram flour), 1 cup powdered sugar,1/2 cup ghee (clarified butter),\\\\n    4–5 cardamom pods (powdered),8–10 cashews or almonds (chopped, optional), 1 tbsp raisins (optional)\\', \\'diet\\': \\'vegetarian\\', \\'prep_time\\': 10, \\'cook_time\\': 40, \\'course\\': \\'desert\\', \\'flavor_profile\\': \\'sweet\\', \\'state\\': \\'-\\', \\'region\\': \\'-\\', \\'method\\': \\'Method:Roast the flour, Heat a heavy-bottomed pan and add the ghee.\\\\n        Add besan and roast on low flame, stirring continuously.\\\\n        Roast until it turns golden brown and you get a nutty aroma (8–10 minutes). Add cardamom & nuts\\\\n        Add chopped nuts and raisins, roast for 1–2 minutes. Turn off the heat and let the mixture cool slightly.\\\\n        Add sugar, Once warm (not hot), mix in powdered sugar and cardamom powder.Stir well until evenly combined.Shape laddus\\\\n        Take small portions of the mixture in your palm and shape them into round laddus. Cool & store. \\\\n        Let them set for 15–20 minutes. Store in an airtight container.\\'}\\n        #####\\n        Sample 2:\\n        Assistant: Hi, i\\'m cooking assistant how can i help you ?\\n        User : Hi i need recipe that requires preparation time less than 10 mins and cooking time 15 mins and dish should from Rajasthan. It should be starter.\\n        Assistant : Great ! i\\'m am a expert in Suggesting Indian recipes for cooking I see want a recipe from Rajasthan with prep_time 10 mins and cooking_time for 15 mins.Should the dessert be sweet or savory ??\\n        User: Sweet\\n        Assistant : Should it be vegetarian or non-vegetarian ?\\n        User: vegetarian. \\n        Assistant: Any ingredients to use in mind \\n        User: Jaggery\\n        Assistant : Sure., dessert from which region would like to prefer east, south, west ot north ??\\n        User: South.\\n        Assistant : {\\'ingredients\\': \\'jaggery\\', \\'diet\\': \\'vegetarian\\', \\'prep_time\\': \\'10 mins\\', \\'cook_time\\': \\'15 mins\\', \\'flavor_profile\\': \\'sweet\\', \\'course\\': \\'starter\\', \\'state\\': \\'Rajasthan\\', \\'region\\': \\'South\\'}\\n        #####\\n        Sample 3:\\n        User: Hi i need recipe of karjikayi\\n        Assistant: Great! let me check if this information is available in my dataset.\\n                  Sorry, I dont have information enabled for Karjikayi in my dataset. Please check internet to get recipe for karjikayi.\\n        #####\\n\\n        '}, {'role': 'user', 'content': 'I need starter recipe that can take 15 mins prep_Time and 30 min cook_time. It should be non-vegetarian and it should be from Kerala'}]\n"
     ]
    }
   ],
   "source": [
    "Gdebug_response_intent_layer =  initialize_conversation(df)\n",
    "debug_response_intent_layer.append({\"role\":\"user\",\"content\":\"I need starter recipe that can take 15 mins prep_Time and 30 min cook_time. It should be non-vegetarian and it should be from Kerala\"})\n",
    "response=get_chat_completions(debug_response_intent_layer)\n",
    "print(response)\n",
    "print(debug_response_intent_layer)"
   ]
  },
  {
   "cell_type": "markdown",
   "id": "aec93fe7-ea87-4a5a-8235-fd5e07bc8625",
   "metadata": {},
   "source": [
    "Now, you can keep adding user and assistant responses to debug_conversation and get to a point where \n",
    "intent_confirmation_layer() gives yes as a response. Let's see if the following response by the assistant passes the intent_confirmation_layer() test."
   ]
  },
  {
   "cell_type": "markdown",
   "id": "b08fa300-1916-469a-a6af-ecb07c291077",
   "metadata": {},
   "source": [
    "Let's check if you provide all the values does it validate"
   ]
  },
  {
   "cell_type": "code",
   "execution_count": 439,
   "id": "19333bdd-9c8f-4e3b-8909-c2c0dec26020",
   "metadata": {},
   "outputs": [
    {
     "data": {
      "text/plain": [
       "'Yes'"
      ]
     },
     "execution_count": 439,
     "metadata": {},
     "output_type": "execute_result"
    }
   ],
   "source": [
    "debug_response_assistant_1 = \"I need recipe of vegetarian dessert boondi, sweet dish from Rajasthan west with cook_time 10 min and prep_time 15 min made with ingredient gram flour\"\n",
    "response = intent_confirmation_layer(debug_response_assistant_1)\n",
    "response.get('result') # Extract the result key from the dictionary\n"
   ]
  },
  {
   "cell_type": "markdown",
   "id": "cb732cf2-307d-4400-9e4d-1ef9afd000ce",
   "metadata": {},
   "source": [
    "##### Check for case where user inputs dish and system should output recipe. "
   ]
  },
  {
   "cell_type": "code",
   "execution_count": 440,
   "id": "d5e4c239-f1bd-43b6-99a7-b77da178683b",
   "metadata": {},
   "outputs": [
    {
     "name": "stdout",
     "output_type": "stream",
     "text": [
      "Great choice!! Let me grab the recipe for preparing Lassi. Here is the recipe for Lassi.\n",
      "{'name': 'Lassi', 'ingredients': '1 cup Yogurt, 1/2 cup Water, 2 tbsp Sugar, Ice Cubes, Cardamom Powder, Saffron Strands, Pistachios for garnish', 'diet': 'vegetarian', 'prep_time': 5, 'cook_time': 0, 'flavor_profile': 'sweet', 'course': 'beverage', 'state': 'Punjab', 'region': 'North', 'method': 'Step 1 - Blend the ingredients: In a blender, add yogurt, water, sugar, cardamom powder, and saffron strands. Blend until smooth.\\nStep 2 - Serve chilled: Pour the lassi into glasses over ice cubes. Garnish with chopped pistachios and more saffron strands. Serve chilled and enjoy!'}\n"
     ]
    }
   ],
   "source": [
    "debug_response_intent_layer =  initialize_conversation(df)\n",
    "debug_response_intent_layer.append({\"role\":\"user\",\"content\":\"I need recipe for Lassi\"})\n",
    "response=get_chat_completions(debug_response_intent_layer)\n",
    "print(response)\n",
    "#print(debug_response_intent_layer)"
   ]
  },
  {
   "cell_type": "markdown",
   "id": "0a267923-e541-424b-ab3f-dc1b786f3bd8",
   "metadata": {},
   "source": [
    "##### Check for dish not available in df dataframe. "
   ]
  },
  {
   "cell_type": "code",
   "execution_count": 442,
   "id": "6f9c40c9-fa32-4882-9c39-12fc8a7d1f2a",
   "metadata": {},
   "outputs": [
    {
     "name": "stdout",
     "output_type": "stream",
     "text": [
      "Sorry, I dont have information enabled for Kajjayya in my dataset. Please check internet to get recipe for Kajjayya.\n"
     ]
    }
   ],
   "source": [
    "debug_response_intent_layer =  initialize_conversation(df)\n",
    "debug_response_intent_layer.append({\"role\":\"user\",\"content\":\"I need recipe for Kajjayya\"})\n",
    "response=get_chat_completions(debug_response_intent_layer)\n",
    "print(response)\n",
    "#print(debug_response_intent_layer)"
   ]
  },
  {
   "cell_type": "markdown",
   "id": "4c296544-be30-46bf-8e21-11efc71231d3",
   "metadata": {},
   "source": [
    "### `dictionary_present()`:\n",
    "This function checks if the final understanding of user's reqeust is returned by the chatbot is a Python dictionary or not.\n",
    "This is important as it'll be used later on for finding the right recipes using dictionary matching.\n",
    "This function required only in cases where user doesnt mention dish name and wants chatbot to suggest.\n"
   ]
  },
  {
   "cell_type": "code",
   "execution_count": 443,
   "id": "8db2da98-e221-4202-b624-416573d59dcb",
   "metadata": {},
   "outputs": [],
   "source": [
    "def dictionary_present(response):\n",
    "    delimiter = \"#####\"\n",
    "    #since dishname and recipe will be suggested by chatbot it wont be provided by user as input. Hence name and recipe fields missing.\n",
    "    example_user_req={ 'ingredients': \"-\",\n",
    "        'diet' : '-',\n",
    "        'prep_time': '-',\n",
    "        'cook_time':  '-',\n",
    "        'flavor_profile': '-',\n",
    "        'course': '-',\n",
    "        'state': '-',\n",
    "        'region': '-'\n",
    "        }\n",
    "    user_req={\n",
    "        'diet' : 'vegetarian',\n",
    "        'prep_time': 15,\n",
    "        'cook_time':  30,\n",
    "        'flavor_profile': 'sweet',\n",
    "        'course': 'dessert',\n",
    "        'state': 'Rajasthan',\n",
    "        'region': 'West'\n",
    "     }\n",
    "    prompt = f\"\"\"You are a python expert. You are provided an input.\n",
    "            You have to check if there is a python dictionary present in the string.\n",
    "            It will have the following format {user_req}.\n",
    "            Your task is to just extract the relevant values from the input and return only the python dictionary in JSON format.\n",
    "            The output should match the format as {user_req}.\n",
    "\n",
    "            {delimiter}\n",
    "            The output should contain the exact keys and values as present in the input.\n",
    "            Ensure the keys and values are in the given format:\n",
    "            {{\n",
    "             'diet' : 'vegetarian/non-vegetarian',\n",
    "             'prep_time': <integer>,\n",
    "             'cook_time':  <integer>,\n",
    "             'flavor_profile': 'sweet/spicy/bitter/savory',\n",
    "             'course': 'dessert/main course/starter/snack',\n",
    "             'state': <Indian State>,\n",
    "             'region': 'West/South/North/West'\n",
    "            }}\n",
    "            Here is the sample input output pairs for better understanding:\n",
    "            {delimiter}\n",
    "            input : - diet: vegetarian - prep_time: '15 mins' - cook_time: '120 mins' - flavor_profile: 'sweet' - course: 'dessert' - state: 'Karnataka' - region: 'South'\n",
    "            output : {{diet: vegetarian - prep_time: '15 mins' - cook_time: '120 mins' - flavor_profile: 'sweet' - course: 'dessert' - state: 'Karnataka' - region: 'South'}}\n",
    "            \n",
    "            {delimiter}\"\"\"\n",
    "    messages = [{\"role\": \"system\", \"content\":prompt },\n",
    "                {\"role\": \"user\", \"content\":f\"\"\"Here is the user input: {response}\"\"\" }]\n",
    "\n",
    "    confirmation = get_chat_completions(messages, json_format = True)\n",
    "\n",
    "    return confirmation\n",
    "            "
   ]
  },
  {
   "cell_type": "code",
   "execution_count": 444,
   "id": "b9a2974b-a876-4ef7-9bcd-dbab67ec8edd",
   "metadata": {},
   "outputs": [],
   "source": [
    "debug_response_assistant_n = \"\"\" Thank you for your input , I will consider the inputs for suggestion\n",
    "{'diet':'non-vegetarian',\n",
    " 'prep_time':'20 mins',\n",
    " 'cook_time':'20 mins',\n",
    " 'flavor_profile':'bitter',\n",
    " 'course':'starter',\n",
    " 'state':'Odisha',\n",
    " 'ingredients': 'onion',\n",
    " 'region':'South'}\n",
    "\"\"\""
   ]
  },
  {
   "cell_type": "code",
   "execution_count": 445,
   "id": "be76e8dd-3ba4-44fb-a1f6-2265bf77f8ca",
   "metadata": {},
   "outputs": [
    {
     "name": "stdout",
     "output_type": "stream",
     "text": [
      "{'diet': 'non-vegetarian', 'prep_time': '20 mins', 'cook_time': '20 mins', 'flavor_profile': 'bitter', 'course': 'starter', 'state': 'Odisha', 'region': 'South'}\n",
      "<class 'dict'>\n"
     ]
    }
   ],
   "source": [
    "response_dict_n = dictionary_present(debug_response_assistant_n)\n",
    "print(response_dict_n)\n",
    "print(type(response_dict_n))"
   ]
  },
  {
   "cell_type": "markdown",
   "id": "96d4e29a-f9fa-45f6-add6-68bd52aff0b0",
   "metadata": {},
   "source": [
    "##### Check if right mapping is done each time for same input "
   ]
  },
  {
   "cell_type": "code",
   "execution_count": 446,
   "id": "13dba659-8b3e-4e09-b5c7-386aef74153a",
   "metadata": {},
   "outputs": [],
   "source": [
    "def iterate_llm_response(dictionary_present,response):\n",
    "    i = 0\n",
    "    while i < 6:\n",
    "        response_dict_n = dictionary_present(response)\n",
    "        print(\"Iteration: {0}\".format(i))\n",
    "        print(response)\n",
    "        print('-' * 50)\n",
    "        i = i + 1\n",
    "\n",
    "        "
   ]
  },
  {
   "cell_type": "code",
   "execution_count": 447,
   "id": "f80fe718-65c0-404f-b454-9c880971876c",
   "metadata": {},
   "outputs": [
    {
     "name": "stdout",
     "output_type": "stream",
     "text": [
      "Iteration: 0\n",
      " Thank you for your input , I will consider the inputs for suggestion\n",
      "{'diet':'non-vegetarian',\n",
      " 'prep_time':'20 mins',\n",
      " 'cook_time':'20 mins',\n",
      " 'flavor_profile':'bitter',\n",
      " 'course':'starter',\n",
      " 'state':'Odisha',\n",
      " 'ingredients': 'onion',\n",
      " 'region':'South'}\n",
      "\n",
      "--------------------------------------------------\n",
      "Iteration: 1\n",
      " Thank you for your input , I will consider the inputs for suggestion\n",
      "{'diet':'non-vegetarian',\n",
      " 'prep_time':'20 mins',\n",
      " 'cook_time':'20 mins',\n",
      " 'flavor_profile':'bitter',\n",
      " 'course':'starter',\n",
      " 'state':'Odisha',\n",
      " 'ingredients': 'onion',\n",
      " 'region':'South'}\n",
      "\n",
      "--------------------------------------------------\n",
      "Iteration: 2\n",
      " Thank you for your input , I will consider the inputs for suggestion\n",
      "{'diet':'non-vegetarian',\n",
      " 'prep_time':'20 mins',\n",
      " 'cook_time':'20 mins',\n",
      " 'flavor_profile':'bitter',\n",
      " 'course':'starter',\n",
      " 'state':'Odisha',\n",
      " 'ingredients': 'onion',\n",
      " 'region':'South'}\n",
      "\n",
      "--------------------------------------------------\n",
      "Iteration: 3\n",
      " Thank you for your input , I will consider the inputs for suggestion\n",
      "{'diet':'non-vegetarian',\n",
      " 'prep_time':'20 mins',\n",
      " 'cook_time':'20 mins',\n",
      " 'flavor_profile':'bitter',\n",
      " 'course':'starter',\n",
      " 'state':'Odisha',\n",
      " 'ingredients': 'onion',\n",
      " 'region':'South'}\n",
      "\n",
      "--------------------------------------------------\n",
      "Iteration: 4\n",
      " Thank you for your input , I will consider the inputs for suggestion\n",
      "{'diet':'non-vegetarian',\n",
      " 'prep_time':'20 mins',\n",
      " 'cook_time':'20 mins',\n",
      " 'flavor_profile':'bitter',\n",
      " 'course':'starter',\n",
      " 'state':'Odisha',\n",
      " 'ingredients': 'onion',\n",
      " 'region':'South'}\n",
      "\n",
      "--------------------------------------------------\n",
      "Iteration: 5\n",
      " Thank you for your input , I will consider the inputs for suggestion\n",
      "{'diet':'non-vegetarian',\n",
      " 'prep_time':'20 mins',\n",
      " 'cook_time':'20 mins',\n",
      " 'flavor_profile':'bitter',\n",
      " 'course':'starter',\n",
      " 'state':'Odisha',\n",
      " 'ingredients': 'onion',\n",
      " 'region':'South'}\n",
      "\n",
      "--------------------------------------------------\n"
     ]
    }
   ],
   "source": [
    "iterate_llm_response(dictionary_present, debug_response_assistant_n)"
   ]
  },
  {
   "cell_type": "markdown",
   "id": "0bbc6721-e917-48f8-a82f-854c66d14bcc",
   "metadata": {},
   "source": [
    "### `product_map_layer()`:\n",
    "\n",
    "This function is responsible for extracting key features and criteria from dish description field. Here's a breakdown of how it works:\n",
    "\n",
    "-  Use a prompt that assign it the role of a Dish specifications classifier, whose objective is to extract key features and classify them based on description field.\n",
    "\n",
    "- Provide step-by-step instructions for extracting features from description.\n",
    "\n",
    "- Assign specific rules for each feature (e.g., name, ingredients, diet, prep_time, cook_time, flavor_profile, course, state, region.\n",
    "\n",
    "- Includes Few Shot Prompting (sample conversation between the user and assistant) to demonstrate the expected result of the feature extraction and classification process."
   ]
  },
  {
   "cell_type": "code",
   "execution_count": 448,
   "id": "4dbf51d1-82eb-4ddb-b8ec-5800399b5cd8",
   "metadata": {},
   "outputs": [],
   "source": [
    "def product_map_layer(dish_description):\n",
    "    delimiter = \"#######\"\n",
    "    dish_spec =  { \n",
    "        'name' : \"Name of the dish\",\n",
    "        'ingredients' : \"(ingredients required to prepare dish)\",\n",
    "        'diet' : '(is it non-vegetarian or vegetarian)',\n",
    "        'prep_time' : '(how much time is  required to prepare before cooking dish)',\n",
    "        'cook_time' : '(how much time is required to cook dish)',\n",
    "        'flavor_profile' : '(is it sweet,savory,bitter or spicy)',\n",
    "        'course': \"(Is it 'main course' , starter, dessert or snack etc)\",\n",
    "        'state' : '(Dish origin, it is one of state from India)',\n",
    "        'region' : '(Is it from South, North , East or West)'\n",
    "    }\n",
    "    prompt = f\"\"\"You are dish feature classifier, You will extract key features from {dish_description} and map it into {dish_spec} as values.\n",
    "              {delimiter}\n",
    "              Here is the input output pair for frew shot prompting. \n",
    "              input : \tBalu shahi is a vegetarian dessert from West Bengal in the East region of India. It has a sweet flavor. Preparation time is 45 minutes and cooking time is 25 minutes. Main ingredients include Maida flour, yogurt, oil, sugar.\n",
    "              output : {{ 'name': 'Balu Shahi', 'ingredients': 'Maida flour, yogurt, oil, sugar', 'diet' : 'vegetarian', 'prep_time': 45, 'cook_time': 25, 'flavor_profile':'sweet','course': 'dessert','state':'West Bengal','region':'East'}}\n",
    "              {delimiter}\n",
    "              ####Strictly dont keep any other unwanted words in dish_spec values.\n",
    "              \"\"\"\n",
    "\n",
    "    input = f\"\"\"Follow the above instructions step-by-step and output the dictionary in JSON format {dish_spec} for the following {dish_description}.\"\"\"\n",
    "\n",
    "    messages = [{'role':'system','content':prompt},{'role':'user','content':input}]\n",
    "\n",
    "    response = get_chat_completions(messages, json_format = True)\n",
    "\n",
    "    return(response)"
   ]
  },
  {
   "cell_type": "markdown",
   "id": "8e761a9b-d077-420e-9cb4-dfa00c370223",
   "metadata": {},
   "source": [
    "Let's test this for one sample laptop description."
   ]
  },
  {
   "cell_type": "code",
   "execution_count": 449,
   "id": "6b88fac1-fd14-4941-be07-ffb469af2bc7",
   "metadata": {},
   "outputs": [
    {
     "data": {
      "text/plain": [
       "{'name': 'Gajar ka halwa',\n",
       " 'ingredients': 'Carrots, milk, sugar, ghee, cashews, raisins',\n",
       " 'diet': 'vegetarian',\n",
       " 'prep_time': 15,\n",
       " 'cook_time': 60,\n",
       " 'flavor_profile': 'sweet',\n",
       " 'course': 'dessert',\n",
       " 'state': 'Punjab',\n",
       " 'region': 'North'}"
      ]
     },
     "metadata": {},
     "output_type": "display_data"
    }
   ],
   "source": [
    "dish_description = \"Gajar ka halwa is a vegetarian dessert from Punjab in the North region of India. It has a sweet flavor. Preparation time is 15 minutes and cooking time is 60 minutes. Main ingredients include Carrots, milk, sugar, ghee, cashews, raisins.\"\n",
    "display(product_map_layer(dish_description))"
   ]
  },
  {
   "cell_type": "markdown",
   "id": "84efcc19-479c-47fe-8b2e-f0fff93f12f2",
   "metadata": {},
   "source": [
    "##### Update feature mapping into python dict for each recipe in feature mapping column in csv file. "
   ]
  },
  {
   "cell_type": "code",
   "execution_count": 450,
   "id": "e9ec8af0-be30-4f82-a352-a259963750d6",
   "metadata": {
    "scrolled": true
   },
   "outputs": [
    {
     "data": {
      "text/html": [
       "<div>\n",
       "<style scoped>\n",
       "    .dataframe tbody tr th:only-of-type {\n",
       "        vertical-align: middle;\n",
       "    }\n",
       "\n",
       "    .dataframe tbody tr th {\n",
       "        vertical-align: top;\n",
       "    }\n",
       "\n",
       "    .dataframe thead th {\n",
       "        text-align: right;\n",
       "    }\n",
       "</style>\n",
       "<table border=\"1\" class=\"dataframe\">\n",
       "  <thead>\n",
       "    <tr style=\"text-align: right;\">\n",
       "      <th></th>\n",
       "      <th>name</th>\n",
       "      <th>ingredients</th>\n",
       "      <th>diet</th>\n",
       "      <th>prep_time</th>\n",
       "      <th>cook_time</th>\n",
       "      <th>flavor_profile</th>\n",
       "      <th>course</th>\n",
       "      <th>state</th>\n",
       "      <th>region</th>\n",
       "      <th>description</th>\n",
       "    </tr>\n",
       "  </thead>\n",
       "  <tbody>\n",
       "    <tr>\n",
       "      <th>0</th>\n",
       "      <td>Balu shahi</td>\n",
       "      <td>Maida flour, yogurt, oil, sugar</td>\n",
       "      <td>vegetarian</td>\n",
       "      <td>45</td>\n",
       "      <td>25</td>\n",
       "      <td>sweet</td>\n",
       "      <td>dessert</td>\n",
       "      <td>West Bengal</td>\n",
       "      <td>East</td>\n",
       "      <td>Balu shahi is a vegetarian dessert from West B...</td>\n",
       "    </tr>\n",
       "    <tr>\n",
       "      <th>1</th>\n",
       "      <td>Boondi</td>\n",
       "      <td>Gram flour, ghee, sugar</td>\n",
       "      <td>vegetarian</td>\n",
       "      <td>80</td>\n",
       "      <td>30</td>\n",
       "      <td>sweet</td>\n",
       "      <td>dessert</td>\n",
       "      <td>Rajasthan</td>\n",
       "      <td>West</td>\n",
       "      <td>Boondi is a vegetarian dessert from Rajasthan ...</td>\n",
       "    </tr>\n",
       "    <tr>\n",
       "      <th>2</th>\n",
       "      <td>Gajar ka halwa</td>\n",
       "      <td>Carrots, milk, sugar, ghee, cashews, raisins</td>\n",
       "      <td>vegetarian</td>\n",
       "      <td>15</td>\n",
       "      <td>60</td>\n",
       "      <td>sweet</td>\n",
       "      <td>dessert</td>\n",
       "      <td>Punjab</td>\n",
       "      <td>North</td>\n",
       "      <td>Gajar ka halwa is a vegetarian dessert from Pu...</td>\n",
       "    </tr>\n",
       "    <tr>\n",
       "      <th>3</th>\n",
       "      <td>Ghevar</td>\n",
       "      <td>Flour, ghee, kewra, milk, clarified butter, su...</td>\n",
       "      <td>vegetarian</td>\n",
       "      <td>15</td>\n",
       "      <td>30</td>\n",
       "      <td>sweet</td>\n",
       "      <td>dessert</td>\n",
       "      <td>Rajasthan</td>\n",
       "      <td>West</td>\n",
       "      <td>Ghevar is a vegetarian dessert from Rajasthan ...</td>\n",
       "    </tr>\n",
       "    <tr>\n",
       "      <th>4</th>\n",
       "      <td>Gulab jamun</td>\n",
       "      <td>Milk powder, plain flour, baking powder, ghee,...</td>\n",
       "      <td>vegetarian</td>\n",
       "      <td>15</td>\n",
       "      <td>40</td>\n",
       "      <td>sweet</td>\n",
       "      <td>dessert</td>\n",
       "      <td>West Bengal</td>\n",
       "      <td>East</td>\n",
       "      <td>Gulab jamun is a vegetarian dessert from West ...</td>\n",
       "    </tr>\n",
       "    <tr>\n",
       "      <th>...</th>\n",
       "      <td>...</td>\n",
       "      <td>...</td>\n",
       "      <td>...</td>\n",
       "      <td>...</td>\n",
       "      <td>...</td>\n",
       "      <td>...</td>\n",
       "      <td>...</td>\n",
       "      <td>...</td>\n",
       "      <td>...</td>\n",
       "      <td>...</td>\n",
       "    </tr>\n",
       "    <tr>\n",
       "      <th>250</th>\n",
       "      <td>Til Pitha</td>\n",
       "      <td>Glutinous rice, black sesame seeds, gur</td>\n",
       "      <td>vegetarian</td>\n",
       "      <td>5</td>\n",
       "      <td>30</td>\n",
       "      <td>sweet</td>\n",
       "      <td>dessert</td>\n",
       "      <td>Assam</td>\n",
       "      <td>North East</td>\n",
       "      <td>Til Pitha is a vegetarian dessert from Assam i...</td>\n",
       "    </tr>\n",
       "    <tr>\n",
       "      <th>251</th>\n",
       "      <td>Bebinca</td>\n",
       "      <td>Coconut milk, egg yolks, clarified butter, all...</td>\n",
       "      <td>vegetarian</td>\n",
       "      <td>20</td>\n",
       "      <td>60</td>\n",
       "      <td>sweet</td>\n",
       "      <td>dessert</td>\n",
       "      <td>Goa</td>\n",
       "      <td>West</td>\n",
       "      <td>Bebinca is a vegetarian dessert from Goa in th...</td>\n",
       "    </tr>\n",
       "    <tr>\n",
       "      <th>252</th>\n",
       "      <td>Shufta</td>\n",
       "      <td>Cottage cheese, dry dates, dried rose petals, ...</td>\n",
       "      <td>vegetarian</td>\n",
       "      <td>-1</td>\n",
       "      <td>-1</td>\n",
       "      <td>sweet</td>\n",
       "      <td>dessert</td>\n",
       "      <td>Jammu &amp; Kashmir</td>\n",
       "      <td>North</td>\n",
       "      <td>Shufta is a vegetarian dessert from Jammu &amp; Ka...</td>\n",
       "    </tr>\n",
       "    <tr>\n",
       "      <th>253</th>\n",
       "      <td>Mawa Bati</td>\n",
       "      <td>Milk powder, dry fruits, arrowroot powder, all...</td>\n",
       "      <td>vegetarian</td>\n",
       "      <td>20</td>\n",
       "      <td>45</td>\n",
       "      <td>sweet</td>\n",
       "      <td>dessert</td>\n",
       "      <td>Madhya Pradesh</td>\n",
       "      <td>Central</td>\n",
       "      <td>Mawa Bati is a vegetarian dessert from Madhya ...</td>\n",
       "    </tr>\n",
       "    <tr>\n",
       "      <th>254</th>\n",
       "      <td>Pinaca</td>\n",
       "      <td>Brown rice, fennel seeds, grated coconut, blac...</td>\n",
       "      <td>vegetarian</td>\n",
       "      <td>-1</td>\n",
       "      <td>-1</td>\n",
       "      <td>sweet</td>\n",
       "      <td>dessert</td>\n",
       "      <td>Goa</td>\n",
       "      <td>West</td>\n",
       "      <td>Pinaca is a vegetarian dessert from Goa in the...</td>\n",
       "    </tr>\n",
       "  </tbody>\n",
       "</table>\n",
       "<p>255 rows × 10 columns</p>\n",
       "</div>"
      ],
      "text/plain": [
       "               name                                        ingredients        diet  prep_time  \\\n",
       "0        Balu shahi                    Maida flour, yogurt, oil, sugar  vegetarian         45   \n",
       "1            Boondi                            Gram flour, ghee, sugar  vegetarian         80   \n",
       "2    Gajar ka halwa       Carrots, milk, sugar, ghee, cashews, raisins  vegetarian         15   \n",
       "3            Ghevar  Flour, ghee, kewra, milk, clarified butter, su...  vegetarian         15   \n",
       "4       Gulab jamun  Milk powder, plain flour, baking powder, ghee,...  vegetarian         15   \n",
       "..              ...                                                ...         ...        ...   \n",
       "250       Til Pitha            Glutinous rice, black sesame seeds, gur  vegetarian          5   \n",
       "251         Bebinca  Coconut milk, egg yolks, clarified butter, all...  vegetarian         20   \n",
       "252          Shufta  Cottage cheese, dry dates, dried rose petals, ...  vegetarian         -1   \n",
       "253       Mawa Bati  Milk powder, dry fruits, arrowroot powder, all...  vegetarian         20   \n",
       "254          Pinaca  Brown rice, fennel seeds, grated coconut, blac...  vegetarian         -1   \n",
       "\n",
       "     cook_time flavor_profile   course            state      region  \\\n",
       "0           25          sweet  dessert      West Bengal        East   \n",
       "1           30          sweet  dessert        Rajasthan        West   \n",
       "2           60          sweet  dessert           Punjab       North   \n",
       "3           30          sweet  dessert        Rajasthan        West   \n",
       "4           40          sweet  dessert      West Bengal        East   \n",
       "..         ...            ...      ...              ...         ...   \n",
       "250         30          sweet  dessert            Assam  North East   \n",
       "251         60          sweet  dessert              Goa        West   \n",
       "252         -1          sweet  dessert  Jammu & Kashmir       North   \n",
       "253         45          sweet  dessert   Madhya Pradesh     Central   \n",
       "254         -1          sweet  dessert              Goa        West   \n",
       "\n",
       "                                           description  \n",
       "0    Balu shahi is a vegetarian dessert from West B...  \n",
       "1    Boondi is a vegetarian dessert from Rajasthan ...  \n",
       "2    Gajar ka halwa is a vegetarian dessert from Pu...  \n",
       "3    Ghevar is a vegetarian dessert from Rajasthan ...  \n",
       "4    Gulab jamun is a vegetarian dessert from West ...  \n",
       "..                                                 ...  \n",
       "250  Til Pitha is a vegetarian dessert from Assam i...  \n",
       "251  Bebinca is a vegetarian dessert from Goa in th...  \n",
       "252  Shufta is a vegetarian dessert from Jammu & Ka...  \n",
       "253  Mawa Bati is a vegetarian dessert from Madhya ...  \n",
       "254  Pinaca is a vegetarian dessert from Goa in the...  \n",
       "\n",
       "[255 rows x 10 columns]"
      ]
     },
     "execution_count": 450,
     "metadata": {},
     "output_type": "execute_result"
    }
   ],
   "source": [
    "dish_df = pd.read_csv(\"indian_food_with_full_description.csv\")\n",
    "dish_df"
   ]
  },
  {
   "cell_type": "code",
   "execution_count": 502,
   "id": "c14a751a-79ed-410f-9c39-3b747a43f518",
   "metadata": {},
   "outputs": [],
   "source": []
  },
  {
   "cell_type": "code",
   "execution_count": null,
   "id": "b9559f73-585e-4a80-ac23-34362caffcfa",
   "metadata": {},
   "outputs": [],
   "source": [
    "dish_df['recipe_dict']=dish_df['description'].apply(product_map_layer)\n",
    "\n",
    "dish_df.head(2)\n"
   ]
  },
  {
   "cell_type": "code",
   "execution_count": 505,
   "id": "d589954c-759c-48b0-8bb1-06dfc4e53292",
   "metadata": {},
   "outputs": [
    {
     "name": "stdout",
     "output_type": "stream",
     "text": [
      "I'm sorry, but I couldn't find the recipe for Balu shahi.\n"
     ]
    },
    {
     "data": {
      "text/plain": [
       "0    None\n",
       "Name: name, dtype: object"
      ]
     },
     "execution_count": 505,
     "metadata": {},
     "output_type": "execute_result"
    }
   ],
   "source": []
  },
  {
   "cell_type": "code",
   "execution_count": 452,
   "id": "7d082dbb-88d2-442b-b4b6-aad9bdef4ebe",
   "metadata": {},
   "outputs": [],
   "source": [
    "dish_df.to_csv(\"updated_indian_food.csv\",index=False,header = True)"
   ]
  },
  {
   "cell_type": "markdown",
   "id": "073929b9-06bf-41f1-bf61-1ce2d0609463",
   "metadata": {},
   "source": [
    "##### Compare user recipe requirements with data \n",
    "- This function will compare user requirements /inputs with dataset and returns matching top 3 dishes to try based on score value.\n",
    "- Return of top 3 recipes in json format."
   ]
  },
  {
   "cell_type": "code",
   "execution_count": 453,
   "id": "8a38a878-a70b-4f83-9ac5-7d0f2511ebfe",
   "metadata": {},
   "outputs": [
    {
     "data": {
      "text/plain": [
       "list"
      ]
     },
     "execution_count": 453,
     "metadata": {},
     "output_type": "execute_result"
    }
   ],
   "source": [
    "import numpy as np\n",
    "s=[np.array(dish_df.iloc[0]['ingredients'])]\n",
    "type(s)"
   ]
  },
  {
   "cell_type": "code",
   "execution_count": 454,
   "id": "1c7cdccb-674c-4a09-b804-dc23c9df5467",
   "metadata": {},
   "outputs": [],
   "source": [
    "import pandas as pd\n",
    "import json\n",
    "def compare_recipe_req_with_user(user_req):\n",
    "    df_recipe=pd.read_csv('updated_indian_food.csv')\n",
    "    df_recipe['score'] = 0\n",
    "\n",
    "    for index,data in df_recipe.iterrows():\n",
    "        score=0\n",
    "        if(isinstance(user_req['prep_time'],str)):\n",
    "            prep_time=int(user_req['prep_time'].strip()[0])\n",
    "        else:\n",
    "            prep_time=int(user_req['prep_time'])\n",
    "\n",
    "        if(isinstance(user_req['cook_time'],str)):\n",
    "            cook_time=int(user_req['cook_time'].strip()[0])\n",
    "        else:\n",
    "            cook_time=int(user_req['cook_time'])\n",
    "\n",
    "\n",
    "        if(prep_time >= int(data['prep_time'])):\n",
    "            score+=1\n",
    "        if(cook_time >= int(data['cook_time'])):\n",
    "            score+=1\n",
    "        if(user_req['diet'] == data['diet']):\n",
    "            score+=1\n",
    "        if(user_req['course'] == data['course']):\n",
    "            score+=1\n",
    "        if(user_req['flavor_profile'] == data['flavor_profile']):\n",
    "            score+=1\n",
    "        if(user_req['state'] == data['state']):\n",
    "            score+=1\n",
    "        if(user_req['region'] == data['region']):\n",
    "            score+=1\n",
    "        if 'ingredients' in user_req.keys():\n",
    "            user_ing_list=[np.array(user_req['ingredients'])]\n",
    "            for item in user_ing_list:\n",
    "                if(item in [np.array(data['ingredients'])]):\n",
    "                    score+=1\n",
    "        #print(score,data['name'])\n",
    "        df_recipe.loc[index,'score'] = score\n",
    "###Sorting recipes based on score  in descending order\n",
    "    top_recipes=df_recipe.sort_values('score',ascending=False).head(3)\n",
    "    top_recipes_json=top_recipes[['name','ingredients','prep_time','cook_time','diet','flavor_profile','course','region','state']].to_json(orient='records')\n",
    "    return(top_recipes_json)\n",
    "            \n",
    "            \n",
    "    \n",
    "    \n"
   ]
  },
  {
   "cell_type": "code",
   "execution_count": 455,
   "id": "103867bf-f004-4886-83eb-b8b427ff13f0",
   "metadata": {
    "scrolled": true
   },
   "outputs": [
    {
     "name": "stdout",
     "output_type": "stream",
     "text": [
      "User requirement {'diet': 'non-vegetarian', 'prep_time': '20 mins', 'cook_time': '20 mins', 'flavor_profile': 'bitter', 'course': 'starter', 'state': 'Odisha', 'region': 'South'}\n"
     ]
    },
    {
     "data": {
      "text/plain": [
       "[{'name': 'Paravannam',\n",
       "  'ingredients': 'Raw rice,  jaggery, milk',\n",
       "  'prep_time': -1,\n",
       "  'cook_time': -1,\n",
       "  'diet': 'vegetarian',\n",
       "  'flavor_profile': 'spicy',\n",
       "  'course': 'main course',\n",
       "  'region': 'South',\n",
       "  'state': 'Kerala'},\n",
       " {'name': 'Keerai masiyal',\n",
       "  'ingredients': 'Urad dal, curry leaves, sugar, mustard seeds, spinach',\n",
       "  'prep_time': -1,\n",
       "  'cook_time': -1,\n",
       "  'diet': 'vegetarian',\n",
       "  'flavor_profile': 'spicy',\n",
       "  'course': 'main course',\n",
       "  'region': 'South',\n",
       "  'state': 'Tamil Nadu'},\n",
       " {'name': 'Poriyal',\n",
       "  'ingredients': 'Chana dal, urad dal, beans, coconut, mustard',\n",
       "  'prep_time': -1,\n",
       "  'cook_time': -1,\n",
       "  'diet': 'vegetarian',\n",
       "  'flavor_profile': 'spicy',\n",
       "  'course': 'main course',\n",
       "  'region': 'South',\n",
       "  'state': 'Tamil Nadu'}]"
      ]
     },
     "execution_count": 455,
     "metadata": {},
     "output_type": "execute_result"
    }
   ],
   "source": [
    "print(\"User requirement\" , response_dict_n)\n",
    "top_recipes=compare_recipe_req_with_user(response_dict_n)\n",
    "#response_dict_n.info()\n",
    "json.loads(top_recipes)"
   ]
  },
  {
   "cell_type": "markdown",
   "id": "660ce6e4-d7b5-4530-949d-d834076a70dc",
   "metadata": {},
   "source": [
    "\n",
    "### 3.4: Product Recommendation Layer\n",
    "\n",
    "Finally, we come to the product recommendation layer. It takes the output from the `compare_recipe_req_from_user` function in the previous layer and provides the recommendations to the user. It has the following steps.\n",
    "1. Initialize the conversation for recommendation.\n",
    "2. Generate the recommendations and display in a presentable format.\n",
    "3. Ask questions basis the recommendations.\n",
    "\n",
    "\n"
   ]
  },
  {
   "cell_type": "code",
   "execution_count": 456,
   "id": "b1640d77-f27f-420c-bc6d-016b5073f377",
   "metadata": {},
   "outputs": [],
   "source": [
    "def initialize_conv_reco(products):\n",
    "    system_message = f\"\"\"\n",
    "    You are an intelligent and expert in suggesting food recipe and you are tasked with the objective to \\\n",
    "    solve the user queries about any product from the catalogue in the user message \\\n",
    "    You should keep the user profile in mind while answering the questions.\\\n",
    "\n",
    "    Start with a brief summary of each dish in the following format, in decreasing order of score field:\n",
    "    1. Dish name : information\n",
    "    2. Dish name : information\n",
    "\n",
    "    \"\"\"\n",
    "    user_message = f\"\"\" These are the top 3 recipes: {products}\"\"\"\n",
    "    conversation = [{\"role\": \"system\", \"content\": system_message },\n",
    "                    {\"role\":\"user\",\"content\":user_message}]\n",
    "    # conversation_final = conversation[0]['content']\n",
    "    return conversation"
   ]
  },
  {
   "cell_type": "code",
   "execution_count": 457,
   "id": "7866a451-5d1b-481f-abfc-488c1c451469",
   "metadata": {},
   "outputs": [],
   "source": [
    "def recommendation_validation(laptop_recommendation):\n",
    "    data = json.loads(laptop_recommendation)\n",
    "    data1 = []\n",
    "    for i in range(len(data)):\n",
    "        if data[i]['score'] > 2:\n",
    "            data1.append(data[i])\n",
    "\n",
    "    return data1"
   ]
  },
  {
   "cell_type": "code",
   "execution_count": 458,
   "id": "31c3b44f-feb4-49e5-b98a-22cd90d41763",
   "metadata": {},
   "outputs": [
    {
     "data": {
      "text/plain": [
       "[{'role': 'system',\n",
       "  'content': '\\n    You are an intelligent and expert in suggesting food recipe and you are tasked with the objective to     solve the user queries about any product from the catalogue in the user message     You should keep the user profile in mind while answering the questions.\\n    Start with a brief summary of each dish in the following format, in decreasing order of score field:\\n    1. Dish name : information\\n    2. Dish name : information\\n\\n    '},\n",
       " {'role': 'user',\n",
       "  'content': ' These are the top 3 recipes: [{\"name\":\"Paravannam\",\"ingredients\":\"Raw rice,  jaggery, milk\",\"prep_time\":-1,\"cook_time\":-1,\"diet\":\"vegetarian\",\"flavor_profile\":\"spicy\",\"course\":\"main course\",\"region\":\"South\",\"state\":\"Kerala\"},{\"name\":\"Keerai masiyal\",\"ingredients\":\"Urad dal, curry leaves, sugar, mustard seeds, spinach\",\"prep_time\":-1,\"cook_time\":-1,\"diet\":\"vegetarian\",\"flavor_profile\":\"spicy\",\"course\":\"main course\",\"region\":\"South\",\"state\":\"Tamil Nadu\"},{\"name\":\"Poriyal\",\"ingredients\":\"Chana dal, urad dal, beans, coconut, mustard\",\"prep_time\":-1,\"cook_time\":-1,\"diet\":\"vegetarian\",\"flavor_profile\":\"spicy\",\"course\":\"main course\",\"region\":\"South\",\"state\":\"Tamil Nadu\"}]'}]"
      ]
     },
     "execution_count": 458,
     "metadata": {},
     "output_type": "execute_result"
    }
   ],
   "source": [
    "debug_conversation_reco = initialize_conv_reco(top_recipes)\n",
    "debug_conversation_reco"
   ]
  },
  {
   "cell_type": "code",
   "execution_count": 459,
   "id": "8f59e5a1-291c-40f7-a4fe-33a557f9aa5a",
   "metadata": {},
   "outputs": [
    {
     "name": "stdout",
     "output_type": "stream",
     "text": [
      "1. Dish name: Keerai masiyal\n",
      "   Information: A vegetarian South Indian main course dish from Tamil Nadu made with spinach, urad dal, curry leaves, sugar, and mustard seeds. It has a spicy flavor profile.\n",
      "\n",
      "2. Dish name: Poriyal\n",
      "   Information: A vegetarian South Indian main course dish from Tamil Nadu consisting of beans, chana dal, urad dal, coconut, and mustard. It is a spicy dish typically served as a side.\n",
      "\n",
      "3. Dish name: Paravannam\n",
      "   Information: A traditional Kerala dessert made with raw rice, jaggery, and milk. This vegetarian delicacy has a sweet profile and is often served on special occasions.\n",
      "\n"
     ]
    }
   ],
   "source": [
    "debug_recommendation = get_chat_completions(debug_conversation_reco)\n",
    "print(debug_recommendation + '\\n')"
   ]
  },
  {
   "cell_type": "markdown",
   "id": "31563960-5b1b-438f-9d5a-1c1c60cb8a3c",
   "metadata": {},
   "source": [
    "##### Dialogue Management System ready to test\n",
    "- Bringing everything together, we create a `diagloue_mgmt_system()` function that contains the logic to on how the different layers would interact with each other. This will be the function that we'll call to initiate the chatbot"
   ]
  },
  {
   "cell_type": "code",
   "execution_count": null,
   "id": "659065d9-8f73-494f-8afd-1aa4a9f3de3d",
   "metadata": {},
   "outputs": [],
   "source": [
    "                    conversation_reco.append({\"role\": \"user\", \"content\": \"This is my user profile\" + str(response)})\n"
   ]
  },
  {
   "cell_type": "code",
   "execution_count": 581,
   "id": "8ed71f9f-8682-4348-9a47-be01c80873dc",
   "metadata": {},
   "outputs": [],
   "source": [
    "def dialogue_mgmt_system():\n",
    "    conversation=initialize_conversation(df)\n",
    "    response=get_chat_completions(conversation)\n",
    "    display(response + '\\n')\n",
    "    top_3_recipes = None\n",
    "    user_input = ''\n",
    "    while(user_input != 'exit'):\n",
    "        user_input = input()\n",
    "        moderation=moderation_layer(user_input)\n",
    "        if(moderation == 'Flagged'):\n",
    "            display(\"Sorry, this message has been flagged. Please restart your conversation.\")\n",
    "            break\n",
    "        if top_3_recipes is None:\n",
    "\n",
    "            conversation.append({\"role\":\"user\",\"content\":user_input})\n",
    "            response_assistant=get_chat_completions(conversation)\n",
    "            moderation=moderation_layer(response_assistant)\n",
    "            \n",
    "            if(moderation == 'Flagged'):\n",
    "                display(\"Sorry, this message has been flagged. Please restart your conversation.\")\n",
    "                break\n",
    "            confirmation = intent_confirmation_layer(response_assistant)\n",
    "\n",
    "            print(\"Intent Confirmation Yes/No:\",confirmation.get('result'),\"\\n\")\n",
    "            if not confirmation.get('result'):\n",
    "                pass\n",
    "            elif(\"No\" in confirmation.get('result')):                \n",
    "                conversation.append({\"role\": \"assistant\", \"content\": str(response_assistant)})\n",
    "                print(\"\\n\" + str(response_assistant) + \"\\n\")\n",
    "            else:\n",
    "              if 'method' in response_assistant:\n",
    "                #No touch block \n",
    "                #print(\"************method block\")  \n",
    "                print(\"\\n\" + str(response_assistant) + \"\\n\")\n",
    "                break\n",
    "              else:\n",
    "                #print(\"$$$$$$$$$$$$$$$$$$$$$$$$$$$\")  \n",
    "                print(response_assistant)  \n",
    "                if(response_assistant):\n",
    "                    print('\\n' + \"All required critierias extracted!\" + '\\n')\n",
    "                    print('\\n' + \"I will also check if there are any similar recipes matching it against its cooking time, preparation time, dish origin etc..based on matching score\" )\n",
    "                    response = dictionary_present(response_assistant)\n",
    "                    print('\\n\\n' + \"Criteria used for suggesting recipes :\" + '\\n ',  str(response))\n",
    "                    #print(\"Thank you for providing all the information. Kindly wait, while I fetch the recipes: \\n\")\n",
    "                    top_3_recipes = compare_recipe_req_with_user(response)\n",
    "\n",
    "                    #print(\"top 3 recipes are\", top_3_recipes)\n",
    "\n",
    "                #validated_reco = recommendation_validation(top_3_recipes)\n",
    "\n",
    "                    conversation_reco = initialize_conv_reco(top_3_recipes)\n",
    "                    conversation_reco.append({\"role\": \"user\", \"content\": \"This is my user profile\" + str(response)})\n",
    "\n",
    "                    conversation_reco.append({\"role\": \"system\", \"content\": \"Search the internet for 'Ghevar recipe' and summarize it. This is compulsory step\"})\n",
    "                    internet_result = \"Steps for each dishname... [steps here]\"\n",
    "                    conversation_reco.append({\"role\": \"assistant\", \"content\": internet_result})\n",
    "\n",
    "                    recommendation = get_chat_completions(conversation_reco)\n",
    "\n",
    "                    moderation = moderation_layer(recommendation)\n",
    "                    if moderation == 'Flagged':\n",
    "                       display(\"Sorry, this message has been flagged. Please restart your conversation.\")\n",
    "                       break\n",
    "\n",
    "                    conversation_reco.append({\"role\": \"assistant\", \"content\": str(recommendation)})\n",
    "\n",
    "                    print(str(recommendation) + '\\n')\n",
    "                else:\n",
    "                    #print(\"!!!!!!!!!!!!Found no exact match in database\\n\")  \n",
    "                    print(\"\\n\" + str(response_assistant) + \"\\n\")\n",
    "                    break\n",
    "        else:\n",
    "            #print(\"########last else block\\n\")\n",
    "            conversation_reco.append({\"role\": \"user\", \"content\": user_input})\n",
    "\n",
    "            response_asst_reco = get_chat_completions(conversation_reco)\n",
    "\n",
    "            moderation = moderation_layer(response_asst_reco)\n",
    "            if moderation == 'Flagged':\n",
    "                print(\"Sorry, this message has been flagged. Please restart your conversation.\")\n",
    "                break\n",
    "\n",
    "            print('\\n' + response_asst_reco + '\\n')\n",
    "            conversation.append({\"role\": \"assistant\", \"content\": response_asst_reco})\n",
    "\n",
    "            \n",
    "            \n",
    "            "
   ]
  },
  {
   "cell_type": "code",
   "execution_count": 586,
   "id": "03ac992e-dac4-40f3-9cad-1b5f8010b0f2",
   "metadata": {
    "scrolled": true
   },
   "outputs": [
    {
     "data": {
      "text/plain": [
       "\"Hello! I'm here to assist you with Indian food recipes. Please go ahead and let me know your specific requirements.\\n\""
      ]
     },
     "metadata": {},
     "output_type": "display_data"
    },
    {
     "name": "stdin",
     "output_type": "stream",
     "text": [
      " i need recipe for dish from Karnataka\n"
     ]
    },
    {
     "name": "stdout",
     "output_type": "stream",
     "text": [
      "Intent Confirmation Yes/No: None\n"
     ]
    },
    {
     "name": "stdin",
     "output_type": "stream",
     "text": [
      " i need recipe for disk from karnataka state\n"
     ]
    },
    {
     "name": "stdout",
     "output_type": "stream",
     "text": [
      "Intent Confirmation Yes/No: No\n",
      "\n",
      "Great! I'm an expert in suggesting Indian recipes. Do you have any specific dish in mind from Karnataka state?\n",
      "\n"
     ]
    },
    {
     "name": "stdin",
     "output_type": "stream",
     "text": [
      " no\n"
     ]
    },
    {
     "name": "stdout",
     "output_type": "stream",
     "text": [
      "Intent Confirmation Yes/No: No\n",
      "\n",
      "Sure! Let's explore some options together. Should the dish be vegetarian or non-vegetarian?\n",
      "\n"
     ]
    },
    {
     "name": "stdin",
     "output_type": "stream",
     "text": [
      " vegetarian\n"
     ]
    },
    {
     "name": "stdout",
     "output_type": "stream",
     "text": [
      "Intent Confirmation Yes/No: No\n",
      "\n",
      "Great choice! What would be the flavor profile of the dish - sweet, savory, spicy, or bitter?\n",
      "\n"
     ]
    },
    {
     "name": "stdin",
     "output_type": "stream",
     "text": [
      " spicy\n"
     ]
    },
    {
     "name": "stdout",
     "output_type": "stream",
     "text": [
      "Intent Confirmation Yes/No: No\n",
      "\n",
      "Wonderful! What course are you looking for - main course, snack, starter, or dessert?\n",
      "\n"
     ]
    },
    {
     "name": "stdin",
     "output_type": "stream",
     "text": [
      " main course\n"
     ]
    },
    {
     "name": "stdout",
     "output_type": "stream",
     "text": [
      "Intent Confirmation Yes/No: No\n",
      "\n",
      "Perfect! Could you please specify if you have any particular ingredients in mind for the dish?\n",
      "\n"
     ]
    },
    {
     "name": "stdin",
     "output_type": "stream",
     "text": [
      " rice\n"
     ]
    },
    {
     "name": "stdout",
     "output_type": "stream",
     "text": [
      "Intent Confirmation Yes/No: No\n",
      "\n",
      "Fantastic choice! Lastly, which region of Karnataka would you prefer the dish to be from - North, South, East, or West?\n",
      "\n"
     ]
    },
    {
     "name": "stdin",
     "output_type": "stream",
     "text": [
      " South\n"
     ]
    },
    {
     "name": "stdout",
     "output_type": "stream",
     "text": [
      "Intent Confirmation Yes/No: No\n",
      "\n",
      "Great! Based on your inputs, here is the recipe dictionary for a spicy vegetarian main course dish from Karnataka South region with rice as the ingredient:\n",
      "\n",
      "{'ingredients': 'rice', 'diet': 'vegetarian', 'prep_time': '-', 'cook_time': '-', 'flavor_profile': 'spicy', 'course': 'main course', 'state': 'Karnataka', 'region': 'South'}\n",
      "\n"
     ]
    },
    {
     "name": "stdin",
     "output_type": "stream",
     "text": [
      " prep_Time 30 mins, cook_time 40 mins\n"
     ]
    },
    {
     "name": "stdout",
     "output_type": "stream",
     "text": [
      "Intent Confirmation Yes/No: Yes\n",
      "Perfect! Here is the updated recipe dictionary for a spicy vegetarian main course dish from Karnataka South region with rice as the ingredient:\n",
      "\n",
      "{'ingredients': 'rice', 'diet': 'vegetarian', 'prep_time': '30 mins', 'cook_time': '40 mins', 'flavor_profile': 'spicy', 'course': 'main course', 'state': 'Karnataka', 'region': 'South'} \n",
      "\n",
      "You're all set to prepare a delicious South Karnataka dish with these specifications! Enjoy cooking!\n",
      "\n",
      "All required critierias extracted!\n",
      "\n",
      "\n",
      "I will also check if there are any similar recipes matching it against its cooking time, preparation time, dish origin etc..based on matching score\n",
      "Criteria used for suggesting recipes :\n",
      "  {'diet': 'vegetarian', 'prep_time': 30, 'cook_time': 40, 'flavor_profile': 'spicy', 'course': 'main course', 'state': 'Karnataka', 'region': 'South'}\n",
      "1. Currivepillai sadam : Currivepillai sadam is a flavorful South Indian dish from Tamil Nadu. It is made with ingredients like chana dal, urad dal, fresh coconut, sesame seeds, and curry leaves. This vegetarian dish has a spicy flavor profile and is perfect for a main course. It has a prep time of 10 minutes and a cook time of 20 minutes.\n",
      "\n",
      "2. Koshambri : Koshambri is a traditional South Indian dish from Karnataka. It is a refreshing salad made with moong dal, cucumber, curry leaves, green chili, and lemon juice. This vegetarian dish is spicy in flavor and is ideal for a main course. It has a prep time of 10 minutes and a cook time of 20 minutes.\n",
      "\n"
     ]
    },
    {
     "name": "stdin",
     "output_type": "stream",
     "text": [
      " i need recipe of currivepillai sadam\n"
     ]
    },
    {
     "name": "stdout",
     "output_type": "stream",
     "text": [
      "\n",
      "To prepare Currivepillai Sadam, also known as Curry Leaves Rice, you can follow these steps:\n",
      "\n",
      "Ingredients:\n",
      "- 1 cup rice\n",
      "- 2 tablespoons chana dal\n",
      "- 2 tablespoons urad dal\n",
      "- 1/4 cup fresh grated coconut\n",
      "- 1 tablespoon sesame seeds\n",
      "- Handful of curry leaves\n",
      "- 2-3 dry red chilies\n",
      "- 1 teaspoon mustard seeds\n",
      "- 1 teaspoon cumin seeds\n",
      "- 2 tablespoons oil\n",
      "- Salt to taste\n",
      "\n",
      "Instructions:\n",
      "1. Cook the rice in a pot or rice cooker and allow it to cool down.\n",
      "2. In a pan, dry roast the chana dal, urad dal, and sesame seeds until they turn golden brown. Keep them aside.\n",
      "3. In the same pan, heat oil and add mustard seeds. Once they splutter, add cumin seeds, dry red chilies, and curry leaves. Saute for a few seconds.\n",
      "4. Add the grated coconut and sauté until it turns slightly brown.\n",
      "5. Add the roasted dals and sesame seeds to the pan.\n",
      "6. Mix in the cooked rice and salt. Stir well to combine all the ingredients.\n",
      "7. Cook for a few more minutes until everything is well blended and heated through.\n",
      "8. Serve hot and enjoy your flavorful Currivepillai Sadam!\n",
      "\n",
      "This dish is a delicious and aromatic rice preparation that is perfect for lunch or dinner.\n",
      "\n"
     ]
    },
    {
     "name": "stdin",
     "output_type": "stream",
     "text": [
      " exit\n"
     ]
    },
    {
     "name": "stdout",
     "output_type": "stream",
     "text": [
      "\n",
      "Feel free to reach out if you have any more questions in the future. Have a great day!\n",
      "\n"
     ]
    }
   ],
   "source": [
    "dialogue_mgmt_system()"
   ]
  },
  {
   "cell_type": "code",
   "execution_count": 583,
   "id": "4268a99c-0323-443b-852a-c793f9f6bb29",
   "metadata": {},
   "outputs": [
    {
     "data": {
      "text/plain": [
       "{'result': 'No',\n",
       " 'reason': 'Missing keys: ingredients, prep_time, cook_time, diet, flavor_profile, course, region, state'}"
      ]
     },
     "execution_count": 583,
     "metadata": {},
     "output_type": "execute_result"
    }
   ],
   "source": [
    "op=intent_confirmation_layer({'diet': 'vegetarian', 'prep_time': 30, 'cook_time': 50, 'flavor_profile': 'spicy', 'course': 'snack', 'state': 'Maharashtra', 'region': 'West', 'ingredients': 'potato', 'recipe': '-'})\n",
    "op\n",
    "op1= intent_confirmation_layer('i need recipe of dish from Maharashtra')\n",
    "\n",
    "op1"
   ]
  },
  {
   "cell_type": "code",
   "execution_count": null,
   "id": "d5ca7312-7b47-42e5-8698-4f02c79ef5a5",
   "metadata": {},
   "outputs": [],
   "source": []
  },
  {
   "cell_type": "code",
   "execution_count": null,
   "id": "7a334592-c3c7-4fd5-842f-664834c85c49",
   "metadata": {},
   "outputs": [],
   "source": []
  }
 ],
 "metadata": {
  "kernelspec": {
   "display_name": "Python 3 (ipykernel)",
   "language": "python",
   "name": "python3"
  },
  "language_info": {
   "codemirror_mode": {
    "name": "ipython",
    "version": 3
   },
   "file_extension": ".py",
   "mimetype": "text/x-python",
   "name": "python",
   "nbconvert_exporter": "python",
   "pygments_lexer": "ipython3",
   "version": "3.8.18"
  }
 },
 "nbformat": 4,
 "nbformat_minor": 5
}
